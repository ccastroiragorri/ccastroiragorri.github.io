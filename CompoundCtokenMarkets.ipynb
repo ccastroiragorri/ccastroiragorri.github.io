{
 "cells": [
  {
   "cell_type": "markdown",
   "metadata": {},
   "source": [
    "# Download Historical Data Compound API Ctoken\n",
    "For a particular block or time stamp"
   ]
  },
  {
   "cell_type": "code",
   "execution_count": 1,
   "metadata": {},
   "outputs": [
    {
     "name": "stderr",
     "output_type": "stream",
     "text": [
      "C:\\nconda\\lib\\site-packages\\scipy\\__init__.py:137: UserWarning: NumPy 1.16.5 or above is required for this version of SciPy (detected version 1.16.4)\n",
      "  UserWarning)\n"
     ]
    }
   ],
   "source": [
    "#Libraries\n",
    "import pandas as pd\n",
    "import numpy as np\n",
    "import scipy\n",
    "import matplotlib.pyplot as plt\n",
    "import requests\n",
    "from datetime import datetime\n",
    "from pandas.io.json import json_normalize\n",
    "import pickle\n",
    "import os \n",
    "import sys"
   ]
  },
  {
   "cell_type": "code",
   "execution_count": 2,
   "metadata": {},
   "outputs": [],
   "source": [
    "pathAPI = os.getcwd()\n",
    "pathData = os.path.join(pathAPI,'data')"
   ]
  },
  {
   "cell_type": "code",
   "execution_count": 3,
   "metadata": {},
   "outputs": [],
   "source": [
    "# API URL Compound, https://compound.finance/docs/api#MarketHistoryService\n",
    "#urlcomp = 'https://api.compound.finance/api/v2/market_history/graph'\n",
    "urlcomp = 'https://api.compound.finance/api/v2/ctoken'"
   ]
  },
  {
   "cell_type": "code",
   "execution_count": null,
   "metadata": {},
   "outputs": [],
   "source": [
    "#params = {\"asset\": cUSDC,\n",
    "# \"min_block_timestamp\": 1623128400,\n",
    "# \"max_block_timestamp\": 1623214800,\n",
    "# \"num_buckets\": BlocksPerDay}"
   ]
  },
  {
   "cell_type": "code",
   "execution_count": 4,
   "metadata": {},
   "outputs": [],
   "source": [
    "# Test with no params\n",
    "#response = requests.get(urlcomp,params)\n",
    "response = requests.get(urlcomp)\n",
    "mkts_now = response.json()"
   ]
  },
  {
   "cell_type": "code",
   "execution_count": 6,
   "metadata": {},
   "outputs": [],
   "source": [
    "mkts=json_normalize(mkts_now['cToken'],sep=\"_\")"
   ]
  },
  {
   "cell_type": "code",
   "execution_count": 8,
   "metadata": {},
   "outputs": [
    {
     "data": {
      "text/plain": [
       "Index(['borrow_cap_value', 'borrow_rate_value', 'cash_value',\n",
       "       'collateral_factor_value', 'comp_borrow_apy_value',\n",
       "       'comp_supply_apy_value', 'exchange_rate_value',\n",
       "       'interest_rate_model_address', 'name', 'number_of_borrowers',\n",
       "       'number_of_suppliers', 'reserve_factor_value', 'reserves_value',\n",
       "       'supply_rate_value', 'symbol', 'token_address', 'total_borrows_value',\n",
       "       'total_supply_value', 'underlying_address', 'underlying_name',\n",
       "       'underlying_price_value', 'underlying_symbol'],\n",
       "      dtype='object')"
      ]
     },
     "execution_count": 8,
     "metadata": {},
     "output_type": "execute_result"
    }
   ],
   "source": [
    "mkts.columns"
   ]
  },
  {
   "cell_type": "code",
   "execution_count": 9,
   "metadata": {},
   "outputs": [],
   "source": [
    "mkts.to_excel('CMkts_3_12_21_11_19.xlsx')"
   ]
  },
  {
   "cell_type": "code",
   "execution_count": null,
   "metadata": {},
   "outputs": [],
   "source": []
  }
 ],
 "metadata": {
  "kernelspec": {
   "display_name": "Python 3",
   "language": "python",
   "name": "python3"
  },
  "language_info": {
   "codemirror_mode": {
    "name": "ipython",
    "version": 3
   },
   "file_extension": ".py",
   "mimetype": "text/x-python",
   "name": "python",
   "nbconvert_exporter": "python",
   "pygments_lexer": "ipython3",
   "version": "3.7.9"
  }
 },
 "nbformat": 4,
 "nbformat_minor": 2
}
