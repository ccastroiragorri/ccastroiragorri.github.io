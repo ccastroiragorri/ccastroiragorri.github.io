{
 "cells": [
  {
   "cell_type": "markdown",
   "metadata": {},
   "source": [
    "# Synthetic Portfolio (Matching)  for financial event studies: an example\n",
    "## 1. Merger Announcements (high beta)\n",
    "On February 1, 2008, Microsoft unveiled a hostile offer for Yahoo Inc (YHOO) of $44.6$ billion. Microsoft Corp’s (MSFT) offer of $31$ dollars per Yahoo share consisted of one-half cash and one-half Microsoft shares, and represented a $62\\%$ premium to Yahoo’s closing price on the previous day. However, Yahoo’s board of directors – led by co-founder Jerry Yang – rejected Microsoft’s offer, saying that it substantially undervalued the company. Unfortunately, the credit crisis that gripped the world later that year also took its toll on Yahoo shares, resulting in the stock trading below $10$ by November 2008. Yahoo’s subsequent road to recovery was a long one, and the stock only exceeded Microsoft’s original $31$ offer five and a half years later in September 2013.\n",
    "\n",
    "Read more: How Mergers and Acquisitions Can Affect A Company | Investopedia http://www.investopedia.com/articles/investing/102914/how-mergers-and-acquisitions-can-affect-company.asp#ixzz4sZ1VgjjF "
   ]
  },
  {
   "cell_type": "markdown",
   "metadata": {},
   "source": [
    "## 2. Motivation for synthetic portfolio\n",
    "The synthetic control method (Abadie, Diamond and Hainmuller, 2010),  has received a lot of attention in comparative case studies on different subjects: terrorism, natural disasters, tabacco control programs. As opposed to competing methods, synthetic control method's strength relies in the use of a combination of units to built a more objective comparison for the unit exposed to the intervention, rather than a choosing a single unit or a \"Ad hoc\" reference group. The authors advocate for the use of data drive procedures to build the reference group. The synthetic control method is a weighted average of the available control units, that makes explicit: the contribution of each unit to the counterfactual of interest and the similarities (or lack thereof) between the unit affected by the event or the intervention of interest and the synthetic control in terms of the pre-intervention outcomes and other predictors of post-intervention outcomes.\n",
    "\n",
    "Synthetic matching techniques applied for event studies in finance are not common, we are only aware of their application in a recent paper, Acemoglu, Johnson, Kermani and Kwak (2016). In this paper the authors measure the effect of personal connections on the returns of financial firms. The study is based on the connections of Timothy Geithner to different financial institutions prior to his nomination as Treasury Secretary at the end of 2008. The synthetic matching methodology is used as a complement to the usual approach in event studies of capturing the difference between a treatment and control group using for the latter the mean return model or the fitted market model. \n",
    "\n",
    "We provide an example of the synthetic matching technique, which we denote as synthetic portfolio method (as special case of synthetic control methods) that has important potential in financial event studies.\n",
    "\n",
    "The first paper where we explore the methodology provides an aplication with intraday data and evaluates the effectiveness of volatility auctions, a type of trading halt mechanism found in many stock markets (it has some similarity to limit-up/limit-down). The working paper version can be found: http://repository.urosario.edu.co/bitstream/handle/10336/13211/dt195.pdf?sequence=3"
   ]
  },
  {
   "cell_type": "markdown",
   "metadata": {},
   "source": [
    "## 3. Read data and obtain data for estimation window. "
   ]
  },
  {
   "cell_type": "code",
   "execution_count": 2,
   "metadata": {
    "collapsed": true
   },
   "outputs": [],
   "source": [
    "import pandas as pd\n",
    "import numpy as np\n",
    "import pickle\n",
    "import matplotlib.pyplot as plt"
   ]
  },
  {
   "cell_type": "code",
   "execution_count": 4,
   "metadata": {},
   "outputs": [
    {
     "data": {
      "text/html": [
       "<div>\n",
       "<style>\n",
       "    .dataframe thead tr:only-child th {\n",
       "        text-align: right;\n",
       "    }\n",
       "\n",
       "    .dataframe thead th {\n",
       "        text-align: left;\n",
       "    }\n",
       "\n",
       "    .dataframe tbody tr th {\n",
       "        vertical-align: top;\n",
       "    }\n",
       "</style>\n",
       "<table border=\"1\" class=\"dataframe\">\n",
       "  <thead>\n",
       "    <tr style=\"text-align: right;\">\n",
       "      <th></th>\n",
       "      <th>date</th>\n",
       "    </tr>\n",
       "    <tr>\n",
       "      <th>event</th>\n",
       "      <th></th>\n",
       "    </tr>\n",
       "  </thead>\n",
       "  <tbody>\n",
       "    <tr>\n",
       "      <th>BeginEstwdow</th>\n",
       "      <td>2007-07-31</td>\n",
       "    </tr>\n",
       "    <tr>\n",
       "      <th>EndEstwdow</th>\n",
       "      <td>2007-12-28</td>\n",
       "    </tr>\n",
       "    <tr>\n",
       "      <th>BeginEvtwdow</th>\n",
       "      <td>2008-01-22</td>\n",
       "    </tr>\n",
       "    <tr>\n",
       "      <th>EndEvtwdow</th>\n",
       "      <td>2008-02-15</td>\n",
       "    </tr>\n",
       "  </tbody>\n",
       "</table>\n",
       "</div>"
      ],
      "text/plain": [
       "                   date\n",
       "event                  \n",
       "BeginEstwdow 2007-07-31\n",
       "EndEstwdow   2007-12-28\n",
       "BeginEvtwdow 2008-01-22\n",
       "EndEvtwdow   2008-02-15"
      ]
     },
     "execution_count": 4,
     "metadata": {},
     "output_type": "execute_result"
    }
   ],
   "source": [
    "# Read event dates\n",
    "evdate='2008-02-01'\n",
    "filepath=\"DatesE10107_10.csv\"\n",
    "edate=pd.read_csv(filepath,sep=\",\",parse_dates=[1],index_col=[0],header=None, names=[\"event\",\"date\"])\n",
    "edate.head()\n",
    "#print(\"Event day:\", evdate)"
   ]
  },
  {
   "cell_type": "code",
   "execution_count": 5,
   "metadata": {},
   "outputs": [
    {
     "data": {
      "text/html": [
       "<div>\n",
       "<style>\n",
       "    .dataframe thead tr:only-child th {\n",
       "        text-align: right;\n",
       "    }\n",
       "\n",
       "    .dataframe thead th {\n",
       "        text-align: left;\n",
       "    }\n",
       "\n",
       "    .dataframe tbody tr th {\n",
       "        vertical-align: top;\n",
       "    }\n",
       "</style>\n",
       "<table border=\"1\" class=\"dataframe\">\n",
       "  <thead>\n",
       "    <tr style=\"text-align: right;\">\n",
       "      <th>PERMNO</th>\n",
       "      <th>10107</th>\n",
       "      <th>sprtrn</th>\n",
       "      <th>10001</th>\n",
       "      <th>10002</th>\n",
       "      <th>10025</th>\n",
       "      <th>10026</th>\n",
       "      <th>10028</th>\n",
       "      <th>10032</th>\n",
       "      <th>10042</th>\n",
       "      <th>10044</th>\n",
       "      <th>...</th>\n",
       "      <th>92284</th>\n",
       "      <th>92340</th>\n",
       "      <th>92399</th>\n",
       "      <th>92583</th>\n",
       "      <th>92655</th>\n",
       "      <th>92663</th>\n",
       "      <th>92690</th>\n",
       "      <th>92807</th>\n",
       "      <th>92874</th>\n",
       "      <th>93105</th>\n",
       "    </tr>\n",
       "    <tr>\n",
       "      <th>date</th>\n",
       "      <th></th>\n",
       "      <th></th>\n",
       "      <th></th>\n",
       "      <th></th>\n",
       "      <th></th>\n",
       "      <th></th>\n",
       "      <th></th>\n",
       "      <th></th>\n",
       "      <th></th>\n",
       "      <th></th>\n",
       "      <th></th>\n",
       "      <th></th>\n",
       "      <th></th>\n",
       "      <th></th>\n",
       "      <th></th>\n",
       "      <th></th>\n",
       "      <th></th>\n",
       "      <th></th>\n",
       "      <th></th>\n",
       "      <th></th>\n",
       "      <th></th>\n",
       "    </tr>\n",
       "  </thead>\n",
       "  <tbody>\n",
       "    <tr>\n",
       "      <th>2007-07-31</th>\n",
       "      <td>-0.013946</td>\n",
       "      <td>-0.012647</td>\n",
       "      <td>-0.002819</td>\n",
       "      <td>-0.007946</td>\n",
       "      <td>0.016410</td>\n",
       "      <td>-0.003759</td>\n",
       "      <td>0.000000</td>\n",
       "      <td>-0.016626</td>\n",
       "      <td>0.000000</td>\n",
       "      <td>-0.020454</td>\n",
       "      <td>...</td>\n",
       "      <td>-0.023691</td>\n",
       "      <td>-0.012090</td>\n",
       "      <td>-0.007937</td>\n",
       "      <td>0.012115</td>\n",
       "      <td>-0.010421</td>\n",
       "      <td>-0.031627</td>\n",
       "      <td>0.017699</td>\n",
       "      <td>0.064972</td>\n",
       "      <td>-0.013767</td>\n",
       "      <td>-0.079167</td>\n",
       "    </tr>\n",
       "    <tr>\n",
       "      <th>2007-08-01</th>\n",
       "      <td>0.010693</td>\n",
       "      <td>0.007243</td>\n",
       "      <td>0.003534</td>\n",
       "      <td>-0.003432</td>\n",
       "      <td>-0.016398</td>\n",
       "      <td>-0.002322</td>\n",
       "      <td>-0.007500</td>\n",
       "      <td>-0.010309</td>\n",
       "      <td>-0.020370</td>\n",
       "      <td>0.013603</td>\n",
       "      <td>...</td>\n",
       "      <td>0.045977</td>\n",
       "      <td>-0.019860</td>\n",
       "      <td>0.002667</td>\n",
       "      <td>-0.007481</td>\n",
       "      <td>-0.009085</td>\n",
       "      <td>-0.061758</td>\n",
       "      <td>-0.015942</td>\n",
       "      <td>0.015915</td>\n",
       "      <td>0.000000</td>\n",
       "      <td>-0.063348</td>\n",
       "    </tr>\n",
       "    <tr>\n",
       "      <th>2007-08-02</th>\n",
       "      <td>0.007509</td>\n",
       "      <td>0.004359</td>\n",
       "      <td>0.000000</td>\n",
       "      <td>0.001722</td>\n",
       "      <td>-0.016158</td>\n",
       "      <td>0.002910</td>\n",
       "      <td>-0.017607</td>\n",
       "      <td>0.017917</td>\n",
       "      <td>-0.017013</td>\n",
       "      <td>0.019264</td>\n",
       "      <td>...</td>\n",
       "      <td>0.045991</td>\n",
       "      <td>0.005993</td>\n",
       "      <td>-0.010638</td>\n",
       "      <td>0.026633</td>\n",
       "      <td>0.007710</td>\n",
       "      <td>0.014557</td>\n",
       "      <td>-0.013844</td>\n",
       "      <td>0.018277</td>\n",
       "      <td>-0.006764</td>\n",
       "      <td>-0.004831</td>\n",
       "    </tr>\n",
       "    <tr>\n",
       "      <th>2007-08-03</th>\n",
       "      <td>-0.018967</td>\n",
       "      <td>-0.026586</td>\n",
       "      <td>-0.019014</td>\n",
       "      <td>-0.052149</td>\n",
       "      <td>-0.047706</td>\n",
       "      <td>-0.006382</td>\n",
       "      <td>0.025615</td>\n",
       "      <td>-0.083504</td>\n",
       "      <td>-0.038462</td>\n",
       "      <td>0.015464</td>\n",
       "      <td>...</td>\n",
       "      <td>-0.042802</td>\n",
       "      <td>-0.003546</td>\n",
       "      <td>-0.002688</td>\n",
       "      <td>-0.063142</td>\n",
       "      <td>-0.017783</td>\n",
       "      <td>-0.044916</td>\n",
       "      <td>-0.028524</td>\n",
       "      <td>-0.064103</td>\n",
       "      <td>-0.008011</td>\n",
       "      <td>-0.053398</td>\n",
       "    </tr>\n",
       "    <tr>\n",
       "      <th>2007-08-06</th>\n",
       "      <td>0.020024</td>\n",
       "      <td>0.024151</td>\n",
       "      <td>-0.012922</td>\n",
       "      <td>0.003628</td>\n",
       "      <td>-0.008760</td>\n",
       "      <td>0.021606</td>\n",
       "      <td>-0.002500</td>\n",
       "      <td>-0.016079</td>\n",
       "      <td>-0.020000</td>\n",
       "      <td>-0.043204</td>\n",
       "      <td>...</td>\n",
       "      <td>0.007317</td>\n",
       "      <td>0.051601</td>\n",
       "      <td>-0.142857</td>\n",
       "      <td>-0.049112</td>\n",
       "      <td>0.021053</td>\n",
       "      <td>0.011757</td>\n",
       "      <td>-0.016141</td>\n",
       "      <td>-0.035616</td>\n",
       "      <td>-0.012107</td>\n",
       "      <td>0.056410</td>\n",
       "    </tr>\n",
       "  </tbody>\n",
       "</table>\n",
       "<p>5 rows × 6221 columns</p>\n",
       "</div>"
      ],
      "text/plain": [
       "PERMNO         10107    sprtrn     10001     10002     10025     10026  \\\n",
       "date                                                                     \n",
       "2007-07-31 -0.013946 -0.012647 -0.002819 -0.007946  0.016410 -0.003759   \n",
       "2007-08-01  0.010693  0.007243  0.003534 -0.003432 -0.016398 -0.002322   \n",
       "2007-08-02  0.007509  0.004359  0.000000  0.001722 -0.016158  0.002910   \n",
       "2007-08-03 -0.018967 -0.026586 -0.019014 -0.052149 -0.047706 -0.006382   \n",
       "2007-08-06  0.020024  0.024151 -0.012922  0.003628 -0.008760  0.021606   \n",
       "\n",
       "PERMNO         10028     10032     10042     10044    ...        92284  \\\n",
       "date                                                  ...                \n",
       "2007-07-31  0.000000 -0.016626  0.000000 -0.020454    ...    -0.023691   \n",
       "2007-08-01 -0.007500 -0.010309 -0.020370  0.013603    ...     0.045977   \n",
       "2007-08-02 -0.017607  0.017917 -0.017013  0.019264    ...     0.045991   \n",
       "2007-08-03  0.025615 -0.083504 -0.038462  0.015464    ...    -0.042802   \n",
       "2007-08-06 -0.002500 -0.016079 -0.020000 -0.043204    ...     0.007317   \n",
       "\n",
       "PERMNO         92340     92399     92583     92655     92663     92690  \\\n",
       "date                                                                     \n",
       "2007-07-31 -0.012090 -0.007937  0.012115 -0.010421 -0.031627  0.017699   \n",
       "2007-08-01 -0.019860  0.002667 -0.007481 -0.009085 -0.061758 -0.015942   \n",
       "2007-08-02  0.005993 -0.010638  0.026633  0.007710  0.014557 -0.013844   \n",
       "2007-08-03 -0.003546 -0.002688 -0.063142 -0.017783 -0.044916 -0.028524   \n",
       "2007-08-06  0.051601 -0.142857 -0.049112  0.021053  0.011757 -0.016141   \n",
       "\n",
       "PERMNO         92807     92874     93105  \n",
       "date                                      \n",
       "2007-07-31  0.064972 -0.013767 -0.079167  \n",
       "2007-08-01  0.015915  0.000000 -0.063348  \n",
       "2007-08-02  0.018277 -0.006764 -0.004831  \n",
       "2007-08-03 -0.064103 -0.008011 -0.053398  \n",
       "2007-08-06 -0.035616 -0.012107  0.056410  \n",
       "\n",
       "[5 rows x 6221 columns]"
      ]
     },
     "execution_count": 5,
     "metadata": {},
     "output_type": "execute_result"
    }
   ],
   "source": [
    "# Load data\n",
    "with open('E10107_10.pickle', 'rb') as file:\n",
    "    fdata = pickle.load(file)\n",
    "fdata.head()"
   ]
  },
  {
   "cell_type": "markdown",
   "metadata": {},
   "source": [
    "## 4. Estimate Market model and perfomence, before event window (MSE)"
   ]
  },
  {
   "cell_type": "markdown",
   "metadata": {},
   "source": [
    "Event studies is one of the most widely used methodologies in accounting and financial research (Kothari and Warner, 2005), and in certain legal proceedings. The timeline structure of an event study has not changed dramatically since its introduction in the late sixties (Ball and Browm, 1968; Fama et al, 1969). There are important number of contributions that have focused specially on providing better tools for statistical inference, see Corrado (2011) for a recent discussion. A recurrent element in event studies is the use of the market model to estimate the so call “normal” returns. \n",
    "In traditional event studies the most common approach to define the normal retunrs, is to use a market model or another factor model (Fama-French three factor or Carhart four factor model). This is actually very close to the original idea of a synthetic control, where the data generating process of $R_{i,t}^{N}$ is determined by a factor model. In finance, factor models are used in many application, and although there is an extensive literature, there is also an important discussion on the validity of the factors used to explain the cross section of returns (Harvey, Liu and Zhu, 2015). Event studies consider mainly the one factor market model.\n",
    "\\begin{equation}\n",
    "AR_{1,t}=R_{1,t}-\\hat{\\alpha}_{i}-\\hat{\\beta}_{i}R_{m,t},\n",
    "\\end{equation}\n",
    "where $R_{m,t}$ denotes the market return."
   ]
  },
  {
   "cell_type": "code",
   "execution_count": 6,
   "metadata": {
    "collapsed": true
   },
   "outputs": [],
   "source": [
    "# Prepare data\n",
    "# Estimation Window\n",
    "estwdow=fdata.loc[:edate.loc['EndEstwdow'][0],:]\n",
    "#GAP and Event window\n",
    "gpevtwdow=fdata.loc[edate.loc['EndEstwdow'][0]:,:]\n",
    "mkt_X_train=estwdow.loc[:,'sprtrn']\n",
    "mkt_X_train=mkt_X_train.values.reshape(-1,1)\n",
    "mkt_y_train=estwdow.loc[:,10107]\n",
    "mkt_X_test=gpevtwdow.loc[:,'sprtrn']\n",
    "mkt_X_test=mkt_X_test.values.reshape(-1,1)\n",
    "mkt_y_test=gpevtwdow.loc[:,10107]\n",
    "#type(mkt_X_train)"
   ]
  },
  {
   "cell_type": "code",
   "execution_count": 7,
   "metadata": {
    "collapsed": true
   },
   "outputs": [],
   "source": [
    "# OLS with sklearn\n",
    "from sklearn import linear_model\n",
    "from sklearn.metrics import mean_squared_error\n",
    "reg = linear_model.LinearRegression()"
   ]
  },
  {
   "cell_type": "code",
   "execution_count": 8,
   "metadata": {},
   "outputs": [
    {
     "name": "stdout",
     "output_type": "stream",
     "text": [
      "Market beta: [ 0.873992]\n",
      "MSE in-sample: 0.000175931374556\n",
      "MSE out-of-sample: 0.000368474742815\n"
     ]
    }
   ],
   "source": [
    "reg.fit(mkt_X_train,mkt_y_train)\n",
    "mkt_beta=reg.coef_\n",
    "print('Market beta:',mkt_beta)\n",
    "#insample\n",
    "mkt_y_pred_is=reg.predict(mkt_X_train)\n",
    "mkt_mse_train=mean_squared_error(mkt_y_train, mkt_y_pred_is)\n",
    "#out-of-sample\n",
    "mkt_y_pred_os=reg.predict(mkt_X_test) #Potential outcome mkt model\n",
    "mkt_mse_test=mean_squared_error(mkt_y_test, mkt_y_pred_os)\n",
    "print('MSE in-sample:', mkt_mse_train)\n",
    "print('MSE out-of-sample:', mkt_mse_test)"
   ]
  },
  {
   "cell_type": "markdown",
   "metadata": {},
   "source": [
    "## 5. Estimate Synthetic portfolio with LASSO"
   ]
  },
  {
   "cell_type": "markdown",
   "metadata": {},
   "source": [
    "For the event study, we perform on the volatility auctions we follow a different approach that deviates from the use of the market model or the constant mean model to build the expected normal return. The main reason to deviate from the traditional approach is that we consider the expected return as a potential outcome. Taking that point of view, we try adapting existing methods in causal inference, in particular synthetic control methods (introduced by Abadie, Diamond and Hainmuller, 2010) to the problem at hand.\n",
    "$R_{1,t}$ is the return of the security of interest where we want to measure the effect of the event (the stock that has been treated). In this example, the stock of Microsoft (the adquirer) involved in the announcement. Conversely, the synthetic portfolio is built using the other securities (that are not envolved in a similar event and that are trading during the same days) to replicate the performance of the security of interest.\n",
    "The methodology is very simple since we only need to estimate $w_{j}^{*}$ required to estimate the effect of the intervention by solving the optimal tracking problem. Therefore we have to solve,\n",
    "\\begin{equation}\n",
    "\\mathbf{w}^{*} = argmin_{\\mathbf{w}} \\sum_{t=1}^{T_{0}} \\left( R_{1,t}-\\sum_{j=2}^{J}w_{j}R_{j,t}  \\right)^{2}\n",
    "\\end{equation}\n",
    "for the pre-intervention or estimation window $t \\in [1,T_{0})$. It is possible to include in this optimization problem restrictions on the estimated weights, for example non-negativity constraints. \n",
    "A proper tracking of the security of interest would guarantee that the synthetic portfolio can provide a potential outcome for the latent variable $R_{1,t}^{N}$, in the post event window $(T_{0},T]$. The goodness of fit of the matching can be established by estimating the Mean Square Error in the estimation window or by testing the cumulative abnormal returns.\\\\\n",
    "The effect of the intervention is equivalent to the abnormal returns of the asset of interest,\n",
    "\\begin{equation}\n",
    "  \\hat{\\alpha}_{1,t}=AR_{1,t}= R_{1,t}-R_{1,t}^{N} \n",
    "  \t\t\t\t\t          =R_{1,t}-\\sum_{j=2}^{J}w_{j}^{*}R_{j,t}, t \\in (T_{0},T]\n",
    "\\end{equation}"
   ]
  },
  {
   "cell_type": "markdown",
   "metadata": {},
   "source": [
    "### Optimal portfolio optimization as a least square problem.\n",
    "Traditional optimal portfolio problems are formulated explicitly using the trade-off between return and risk, that is the mean variance problem (Markowitz, 1952). \n",
    "\\begin{equation}\n",
    "\\mathbf{w}^{*} = argmin_{\\mathbf{w}} \\frac{1}{2}V_{t}[R_{p,t+1}]=w'\\Sigma w, \\text{s.t.}  E_{t}[R_{p,t+1}]=w'\\mu=\\mu_{p}\n",
    "\\end{equation}\n",
    "where $\\mu_{p}$ is the target expected portfolio return and $\\Sigma$ is the variance covariance matrix of the universe of expected returns, $\\mu$. The optimization problem has a tracktable analytical solution\n",
    "\\begin{equation}\n",
    "\\mathbf{w}^{*} = \\frac{\\mu_p}{\\mu'\\Sigma^{-1}\\mu}\\Sigma^{-1}\\mu\n",
    "\\end{equation}\n",
    "Well documented ill-posed problems arrise when we plug-in the sample counterparts of $\\mu$ and $\\Sigma$, for medium to large size problems in terms of the number of assets considered. Many regularization techniques have been proposed to deal with this problem (Frost and Sabarino, 1986; Ledoit and Wolf, 2004; Tu and Zhou, 2009; Brodie et al., 2009). The use of regularization techniques also point to different way to writtin up the optimization problem that will be specially usefull to the synthetic porfolio framework (Carrasco and Noumon, 2010). We can write the variance covariance matriz as the outer product of the returns, second and square of the first moment, $\\Sigma=E[R_{t}R_{t}']-\\mu\\mu'$. Then the mean variance problem (an the empirical counterpart, square of $l_{2}$ norm) can be re-written as,\n",
    "\\begin{equation}\n",
    "\\mathbf{w}^{*} = argmin_{\\mathbf{w}} E[|\\mu_{p}-w'R|^{2}], \\text{s.t.}  E_{t}[R_{p,t+1}]=w'\\mu=\\mu_{p}\n",
    "\\end{equation}\n",
    "\\begin{equation}\n",
    "\\mathbf{w}^{*} = argmin_{\\mathbf{w}} \\frac{1}{T}||\\mu_{p}\\mathbf{1}_{T}-w'R||_{2}^{2} \\text{s.t.}  E_{t}[R_{p,t+1}]=w'\\mu=\\mu_{p}\n",
    "\\end{equation}\n",
    "This same setup can be used to find a solution for the optimal tracking problem as a special case of the optimal portfolio problem where instead of targeting a particular return (scalar) for the porfolio $\\mu_{p}$ we are interested in trackin over time a particular stock, in our case the first stock in the asset space, $R_{1,t}$. Let $\\mu_{p}\\mathbf{1}_{T}:=R_{1,t}$ and $R:=[R_{2,t},\\ldots,R_{J,t}]$ denote the subspace of assets that excludes asset $1$, then we get the optimal tracking problem that returns the synthetic porfolio,\n",
    "\\begin{equation}\n",
    "\\mathbf{w}^{*} = argmin_{\\mathbf{w}} \\sum_{t=1}^{T_{0}} \\left( R_{1,t}-\\sum_{j=2}^{J}w_{j}R_{j,t}  \\right)^{2}\n",
    "\\end{equation}\n",
    "This optimization problem is not very different form minimuzing the sums of square residuals (conic programming, Schmelzer et al., 2013) if we let, $Y:=R_{1,t}$ and $X'\\beta:=\\mathbf{R}_{\\forall j\\neq1}'w$, then we can use ordinary least squares (OLS) to obtain the portfolio weights. However, in the example we have a large asset space ($J>5000$) for the group of assets that make up the control group. Therefore we have to use a way to shrink the asset space in an optima way. "
   ]
  },
  {
   "cell_type": "markdown",
   "metadata": {},
   "source": [
    "The Least absolute shrinkarge and selection operator (LASSO) regularization (we need a regularizationn solution beacuse we have an overdetermined system, more parameters than observations) technique introduced by Tibshirani (1996) is the $l_{1}$-penalized version of the optimal tracking problem that gives the solution to the synthetic porfolio. The Lasso regularized solution is obtained by solving,\n",
    "\\begin{equation}\n",
    "\\mathbf{w}^{*} = argmin_{\\mathbf{w}} \\sum_{t=1}^{T_{0}} \\left( R_{1,t}-\\sum_{j=2}^{J}w_{j}R_{j,t}  \\right)^{2} +\\tau \\sum_{j=2}^{J}|w_{j}|\n",
    "\\end{equation}\n",
    "The optimization problem for LASSO includes the restriction on the sum of the weights (all wealth is invested) $\\sum_{j=2}^{J}w_{j}=1$ and in addition it is possible to impose long-only portfolios $w_{i}\\geq0$ or impose an specific penalty ($\\tau$) only in the short postitions (Brodie et al. 2009)."
   ]
  },
  {
   "cell_type": "code",
   "execution_count": 9,
   "metadata": {},
   "outputs": [
    {
     "name": "stdout",
     "output_type": "stream",
     "text": [
      "<class 'pandas.core.frame.DataFrame'>\n",
      "DatetimeIndex: 106 entries, 2007-07-31 to 2007-12-28\n",
      "Columns: 6219 entries, 10001 to 93105\n",
      "dtypes: float64(6219)\n",
      "memory usage: 5.0 MB\n"
     ]
    }
   ],
   "source": [
    "# Prepare data for LASSO\n",
    "#sample all data and then split\n",
    "X_data=fdata.iloc[:,2:]\n",
    "#train\n",
    "syn_X_train_l=X_data.loc[:edate.loc['EndEstwdow'][0],:]\n",
    "#test\n",
    "syn_X_test_l=X_data.loc[edate.loc['EndEstwdow'][0]:,:]\n",
    "# use mkt_y_test=gpevtwdow.loc[:,10107]\n",
    "syn_X_train_l.info()"
   ]
  },
  {
   "cell_type": "code",
   "execution_count": 10,
   "metadata": {},
   "outputs": [
    {
     "data": {
      "text/plain": [
       "Lasso(alpha=0.0001, copy_X=True, fit_intercept=False, max_iter=1000,\n",
       "   normalize=False, positive=True, precompute=False, random_state=None,\n",
       "   selection='cyclic', tol=0.0001, warm_start=False)"
      ]
     },
     "execution_count": 10,
     "metadata": {},
     "output_type": "execute_result"
    }
   ],
   "source": [
    "# LASSO\n",
    "#alpha is the tunnig parameter, larger impose a greater penalty,\n",
    "#OLS no penalty (alpha=0), criteria to find optimal alpha, need loss function???\n",
    "slreg = linear_model.Lasso(alpha=0.0001,fit_intercept=False, max_iter=1000,positive=True)\n",
    "slreg.fit(syn_X_train_l,mkt_y_train)"
   ]
  },
  {
   "cell_type": "code",
   "execution_count": 11,
   "metadata": {
    "collapsed": true
   },
   "outputs": [],
   "source": [
    "# Portfolio weights\n",
    "lsw=slreg.coef_\n",
    "stockid=syn_X_train_l.columns[np.nonzero(lsw)]\n",
    "lweights=lsw[np.nonzero(lsw)]\n",
    "lweights=lweights/lweights.sum() #re-weight\n",
    "lweights=dict(zip(stockid,lweights))\n",
    "lweights=pd.Series(lweights, index=stockid)\n",
    "lwa=np.array(lweights.values)[:,None] # wa.shape: (41,1) vector"
   ]
  },
  {
   "cell_type": "code",
   "execution_count": 12,
   "metadata": {},
   "outputs": [
    {
     "data": {
      "image/png": "[encoded data removed]",
      "text/plain": [
       "<matplotlib.figure.Figure at 0x233cb95d6a0>"
      ]
     },
     "metadata": {},
     "output_type": "display_data"
    }
   ],
   "source": [
    "#Plot the weights with bar plot\n",
    "plt.bar(range(lweights.shape[0]), lweights.values)\n",
    "plt.xlabel('asset')\n",
    "plt.ylabel('weight %')\n",
    "plt.title('Synthetic Portfolio weights')\n",
    "#plt.xticks(lweights.index.tolist())\n",
    "plt.show()"
   ]
  },
  {
   "cell_type": "code",
   "execution_count": 13,
   "metadata": {},
   "outputs": [
    {
     "name": "stdout",
     "output_type": "stream",
     "text": [
      "MSE in-sample: 0.000134782505911\n",
      "MSE out-of-sample: 0.00048723904166\n"
     ]
    }
   ],
   "source": [
    "# Select asset with non-zero weights\n",
    "X_data_ls=X_data.loc[:,stockid]\n",
    "#train\n",
    "syn_X_train_ls=X_data_ls.loc[:edate.loc['EndEstwdow'][0],:]\n",
    "#test\n",
    "syn_X_test_ls=X_data_ls.loc[edate.loc['EndEstwdow'][0]:,:]\n",
    "#in-sample\n",
    "lXX=np.matrix(syn_X_train_ls.values)  # XX.shape: (103,41) matrix\n",
    "lsyn_y_pred_is=lXX*lwa  # syn_y_pred_is.shape: (103,1) vector\n",
    "lsyn_mse_train=mean_squared_error(mkt_y_train, lsyn_y_pred_is)\n",
    "#out-of-sample\n",
    "lXX_test=np.matrix(syn_X_test_ls.values)  # XX.shape: (19,41) matrix\n",
    "lsyn_y_pred_os=lXX_test*lwa #Potential outcome mkt model\n",
    "lsyn_mse_test=mean_squared_error(mkt_y_test, lsyn_y_pred_os)\n",
    "print('MSE in-sample:', lsyn_mse_train)\n",
    "print('MSE out-of-sample:', lsyn_mse_test)"
   ]
  },
  {
   "cell_type": "markdown",
   "metadata": {},
   "source": [
    "## 6. Estimate Abnormal returns, Visualize estimation and event window."
   ]
  },
  {
   "cell_type": "code",
   "execution_count": 14,
   "metadata": {
    "collapsed": true
   },
   "outputs": [],
   "source": [
    "# estimation window (train) and gap-event window (test)\n",
    "# observed, mkt_f, syn_s, syn_l\n",
    "obs=fdata.iloc[:,0]\n",
    "mkt_y_pred=np.append(mkt_y_pred_is[:len(mkt_y_pred_is)-1],mkt_y_pred_os)\n",
    "lsyn_y_pred=np.append(list(lsyn_y_pred_is[:len(syn_X_train_l)-1,:].flat),list(lsyn_y_pred_os.flat))\n",
    "#make a pd data frame for seaborn # there might be a problem here with business days that makes\n",
    "#additional days\n",
    "ret=pd.DataFrame({'observed':obs.values,'mkt_model':mkt_y_pred,'synthetic_lasso':lsyn_y_pred},index=obs.index)"
   ]
  },
  {
   "cell_type": "code",
   "execution_count": 15,
   "metadata": {
    "collapsed": true
   },
   "outputs": [],
   "source": [
    "import seaborn as sns\n",
    "sns.set_style(\"white\")\n",
    "#sns.despine()"
   ]
  },
  {
   "cell_type": "code",
   "execution_count": 16,
   "metadata": {},
   "outputs": [
    {
     "data": {
      "image/png": "[encoded data removed]",
      "text/plain": [
       "<matplotlib.figure.Figure at 0x233cd88d588>"
      ]
     },
     "metadata": {},
     "output_type": "display_data"
    },
    {
     "name": "stdout",
     "output_type": "stream",
     "text": [
      "MSE in-sample mk model: 0.000175931374556\n",
      "MSE in-sample synth lasso: 0.000134782505911\n"
     ]
    }
   ],
   "source": [
    "#Line graph of observed, mkt model fitted and synthetic returnsimport\n",
    "ret_swdow=ret.loc[:edate.loc['BeginEvtwdow'][0],:]\n",
    "#dfp=ret\n",
    "dfp=ret_swdow\n",
    "f, ax = plt.subplots(1, 1)\n",
    "#x_col='date'\n",
    "#y_col='daily returns'\n",
    "ax.plot_date(dfp.index, dfp[\"mkt_model\"], color=\"blue\", label=ret['mkt_model'].name, linestyle=\"-\")\n",
    "ax.plot_date(dfp.index, dfp[\"observed\"], color=\"red\", label=ret['observed'].name, linestyle=\"-.\")\n",
    "ax.plot_date(dfp.index, dfp[\"synthetic_lasso\"], color=\"green\", label=ret['synthetic_lasso'].name, linestyle=\"--\")\n",
    "ax.legend(loc='upper left')\n",
    "ax.axvline(x=edate.loc['EndEstwdow'][0])\n",
    "plt.xlabel('date')\n",
    "plt.ylabel('daily returns')\n",
    "plt.title('Estimation window (in-sample) and gap (out-of-sample)')\n",
    "plt.gcf().autofmt_xdate()\n",
    "plt.show()\n",
    "print('MSE in-sample mk model:', mkt_mse_train)\n",
    "print('MSE in-sample synth lasso:', lsyn_mse_train)"
   ]
  },
  {
   "cell_type": "code",
   "execution_count": 17,
   "metadata": {
    "collapsed": true
   },
   "outputs": [],
   "source": [
    "# bar graph of Abnormal retunrs\n",
    "ret_ewdow=ret.loc[edate.loc['BeginEvtwdow'][0]:,:]\n",
    "ar_mkt=ret_ewdow.loc[:,'observed']-ret_ewdow.loc[:,'mkt_model']\n",
    "ar_lsyn=ret_ewdow.loc[:,'observed']-ret_ewdow.loc[:,'synthetic_lasso']\n",
    "ar=pd.DataFrame({'mkt_model':ar_mkt,'synthetic_lasso':ar_lsyn},index=ret_ewdow.index)"
   ]
  },
  {
   "cell_type": "code",
   "execution_count": 18,
   "metadata": {},
   "outputs": [
    {
     "data": {
      "text/html": [
       "<div>\n",
       "<style>\n",
       "    .dataframe thead tr:only-child th {\n",
       "        text-align: right;\n",
       "    }\n",
       "\n",
       "    .dataframe thead th {\n",
       "        text-align: left;\n",
       "    }\n",
       "\n",
       "    .dataframe tbody tr th {\n",
       "        vertical-align: top;\n",
       "    }\n",
       "</style>\n",
       "<table border=\"1\" class=\"dataframe\">\n",
       "  <thead>\n",
       "    <tr style=\"text-align: right;\">\n",
       "      <th></th>\n",
       "      <th>mkt_model</th>\n",
       "      <th>synthetic_lasso</th>\n",
       "    </tr>\n",
       "    <tr>\n",
       "      <th>date</th>\n",
       "      <th></th>\n",
       "      <th></th>\n",
       "    </tr>\n",
       "  </thead>\n",
       "  <tbody>\n",
       "    <tr>\n",
       "      <th>2008-01-22</th>\n",
       "      <td>-0.023270</td>\n",
       "      <td>-0.026796</td>\n",
       "    </tr>\n",
       "    <tr>\n",
       "      <th>2008-01-23</th>\n",
       "      <td>-0.022675</td>\n",
       "      <td>-0.019889</td>\n",
       "    </tr>\n",
       "    <tr>\n",
       "      <th>2008-01-24</th>\n",
       "      <td>0.030487</td>\n",
       "      <td>0.048153</td>\n",
       "    </tr>\n",
       "    <tr>\n",
       "      <th>2008-01-25</th>\n",
       "      <td>0.002491</td>\n",
       "      <td>0.003261</td>\n",
       "    </tr>\n",
       "    <tr>\n",
       "      <th>2008-01-28</th>\n",
       "      <td>-0.024081</td>\n",
       "      <td>0.001425</td>\n",
       "    </tr>\n",
       "    <tr>\n",
       "      <th>2008-01-29</th>\n",
       "      <td>-0.011103</td>\n",
       "      <td>0.001467</td>\n",
       "    </tr>\n",
       "    <tr>\n",
       "      <th>2008-01-30</th>\n",
       "      <td>-0.010165</td>\n",
       "      <td>0.003410</td>\n",
       "    </tr>\n",
       "    <tr>\n",
       "      <th>2008-01-31</th>\n",
       "      <td>-0.004295</td>\n",
       "      <td>-0.000956</td>\n",
       "    </tr>\n",
       "    <tr>\n",
       "      <th>2008-02-01</th>\n",
       "      <td>-0.078711</td>\n",
       "      <td>-0.085267</td>\n",
       "    </tr>\n",
       "    <tr>\n",
       "      <th>2008-02-04</th>\n",
       "      <td>-0.001446</td>\n",
       "      <td>-0.008655</td>\n",
       "    </tr>\n",
       "    <tr>\n",
       "      <th>2008-02-05</th>\n",
       "      <td>-0.011193</td>\n",
       "      <td>-0.001259</td>\n",
       "    </tr>\n",
       "    <tr>\n",
       "      <th>2008-02-06</th>\n",
       "      <td>-0.014315</td>\n",
       "      <td>-0.011202</td>\n",
       "    </tr>\n",
       "    <tr>\n",
       "      <th>2008-02-07</th>\n",
       "      <td>-0.022976</td>\n",
       "      <td>-0.027639</td>\n",
       "    </tr>\n",
       "    <tr>\n",
       "      <th>2008-02-08</th>\n",
       "      <td>0.017263</td>\n",
       "      <td>0.012079</td>\n",
       "    </tr>\n",
       "    <tr>\n",
       "      <th>2008-02-11</th>\n",
       "      <td>-0.019460</td>\n",
       "      <td>-0.024737</td>\n",
       "    </tr>\n",
       "    <tr>\n",
       "      <th>2008-02-12</th>\n",
       "      <td>-0.003801</td>\n",
       "      <td>0.015004</td>\n",
       "    </tr>\n",
       "    <tr>\n",
       "      <th>2008-02-13</th>\n",
       "      <td>0.007929</td>\n",
       "      <td>0.006417</td>\n",
       "    </tr>\n",
       "    <tr>\n",
       "      <th>2008-02-14</th>\n",
       "      <td>-0.006213</td>\n",
       "      <td>0.005335</td>\n",
       "    </tr>\n",
       "    <tr>\n",
       "      <th>2008-02-15</th>\n",
       "      <td>-0.005598</td>\n",
       "      <td>0.003844</td>\n",
       "    </tr>\n",
       "  </tbody>\n",
       "</table>\n",
       "</div>"
      ],
      "text/plain": [
       "            mkt_model  synthetic_lasso\n",
       "date                                  \n",
       "2008-01-22  -0.023270        -0.026796\n",
       "2008-01-23  -0.022675        -0.019889\n",
       "2008-01-24   0.030487         0.048153\n",
       "2008-01-25   0.002491         0.003261\n",
       "2008-01-28  -0.024081         0.001425\n",
       "2008-01-29  -0.011103         0.001467\n",
       "2008-01-30  -0.010165         0.003410\n",
       "2008-01-31  -0.004295        -0.000956\n",
       "2008-02-01  -0.078711        -0.085267\n",
       "2008-02-04  -0.001446        -0.008655\n",
       "2008-02-05  -0.011193        -0.001259\n",
       "2008-02-06  -0.014315        -0.011202\n",
       "2008-02-07  -0.022976        -0.027639\n",
       "2008-02-08   0.017263         0.012079\n",
       "2008-02-11  -0.019460        -0.024737\n",
       "2008-02-12  -0.003801         0.015004\n",
       "2008-02-13   0.007929         0.006417\n",
       "2008-02-14  -0.006213         0.005335\n",
       "2008-02-15  -0.005598         0.003844"
      ]
     },
     "execution_count": 18,
     "metadata": {},
     "output_type": "execute_result"
    }
   ],
   "source": [
    "ar"
   ]
  },
  {
   "cell_type": "code",
   "execution_count": 19,
   "metadata": {},
   "outputs": [
    {
     "data": {
      "image/png": "[encoded data removed]",
      "text/plain": [
       "<matplotlib.figure.Figure at 0x233cd9b6320>"
      ]
     },
     "metadata": {},
     "output_type": "display_data"
    },
    {
     "name": "stdout",
     "output_type": "stream",
     "text": [
      "Event day: 2008-02-01\n"
     ]
    }
   ],
   "source": [
    "from matplotlib import dates\n",
    "N = ar.shape[0]\n",
    "ind = np.arange(N)  # the x locations for the groups\n",
    "width = 0.27       # the width of the bars\n",
    "fig = plt.figure()\n",
    "arp = fig.add_subplot(111)\n",
    "rects1 = arp.bar(ind, ar['mkt_model'], width, color='r')\n",
    "rects2 = arp.bar(ind+width, ar['synthetic_lasso'], width, color='g')\n",
    "#arp.axvline(x= pd.to_datetime(evdate))\n",
    "arp.set_title('Abnormal returns')\n",
    "arp.set_ylabel('daily returns')\n",
    "arp.set_xlabel('dates')\n",
    "arp.set_xticks(ind+width)\n",
    "arp.set_xticklabels(ar.index)\n",
    "arp.legend( (rects1[0], rects2[0]), (ar['mkt_model'].name, ar['synthetic_lasso'].name), loc='lower left')\n",
    "#formatter = DateFormatter('%Y-%m-%d')\n",
    "#arp.xaxis.set_major_formatter(formatter)\n",
    "#plt.gcf().autofmt_xdate()\n",
    "plt.xticks(rotation=90)\n",
    "plt.show()\n",
    "#fix dates and single out event\n",
    "print(\"Event day:\", evdate)"
   ]
  },
  {
   "cell_type": "markdown",
   "metadata": {},
   "source": [
    "## 7. Perform Testing"
   ]
  }
 ],
 "metadata": {
  "kernelspec": {
   "display_name": "Python 3",
   "language": "python",
   "name": "python3"
  },
  "language_info": {
   "codemirror_mode": {
    "name": "ipython",
    "version": 3
   },
   "file_extension": ".py",
   "mimetype": "text/x-python",
   "name": "python",
   "nbconvert_exporter": "python",
   "pygments_lexer": "ipython3",
   "version": "3.6.1"
  }
 },
 "nbformat": 4,
 "nbformat_minor": 2
}
