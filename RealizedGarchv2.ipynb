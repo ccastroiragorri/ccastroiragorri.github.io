{
 "cells": [
  {
   "cell_type": "markdown",
   "metadata": {},
   "source": [
    "# Realized GARCH:\n",
    "## A joint model for returns and realized measure of volatility\n",
    "Hansen, P.R., Huang, Z., Shek, H.H. (2012) Journal of Applied Econometrics, 27: 877-906\n",
    "\n",
    "Application on S&P500 Index"
   ]
  },
  {
   "cell_type": "code",
   "execution_count": 1,
   "metadata": {},
   "outputs": [],
   "source": [
    "#Libraries\n",
    "import pandas as pd\n",
    "import numpy as np"
   ]
  },
  {
   "cell_type": "code",
   "execution_count": 2,
   "metadata": {},
   "outputs": [],
   "source": [
    "# obtain realized vol form Oxford MAN\n",
    "filepath=\"sp500.csv\"\n",
    "data_rg=pd.read_csv(filepath,sep=\",\",parse_dates=[0],index_col=[0])"
   ]
  },
  {
   "cell_type": "code",
   "execution_count": 3,
   "metadata": {},
   "outputs": [
    {
     "name": "stdout",
     "output_type": "stream",
     "text": [
      "<class 'pandas.core.frame.DataFrame'>\n",
      "DatetimeIndex: 4001 entries, 2000-01-04 to 2018-03-02\n",
      "Data columns (total 3 columns):\n",
      "idx_sp    4001 non-null float64\n",
      "rk_sp     4001 non-null float64\n",
      "rt_sp     4001 non-null float64\n",
      "dtypes: float64(3)\n",
      "memory usage: 125.0 KB\n"
     ]
    }
   ],
   "source": [
    "data_rg.info()"
   ]
  },
  {
   "cell_type": "markdown",
   "metadata": {},
   "source": [
    "### Code to estimate GARCH(1,1) from quantopian\n",
    "<p> Source: Generalized Method of Moments with ARCH and GARCH Models <\\p>\n",
    "<p> By Delaney Granizo-Mackenzie and Andrei Kirilenko developed as part of the Masters of Finance curriculum at MIT Sloan. <\\p>\n",
    "Part of the Quantopian Lecture Series:\n",
    "* [www.quantopian.com/lectures](https://www.quantopian.com/lectures)\n",
    "* [github.com/quantopian/research_public](https://github.com/quantopian/research_public)"
   ]
  },
  {
   "cell_type": "code",
   "execution_count": 5,
   "metadata": {},
   "outputs": [],
   "source": [
    "import cvxopt\n",
    "from functools import partial\n",
    "import math\n",
    "import numpy as np\n",
    "import scipy\n",
    "from scipy import stats\n",
    "import statsmodels.api as sm\n",
    "from statsmodels.stats.stattools import jarque_bera\n",
    "import matplotlib.pyplot as plt"
   ]
  },
  {
   "cell_type": "markdown",
   "metadata": {},
   "source": [
    "## RealGARCH(1,1)\n",
    "Linear specification given by the following equations:\n",
    "\\begin{equation}\n",
    "r_{t}=\\sqrt{h_{t}}z_{t} \\\\\n",
    "h_{t}=\\omega + \\beta h_{t-1}+ \\gamma x_{t-1} \\\\\n",
    "x_{t}= \\xi + \\varphi h_{t}+ \\tau_{1}z_{t}+ \\tau_{2}(z_{t}^{2}-1) +u_{t}\n",
    "\\end{equation}\n",
    "where $z_{t} \\thicksim (0,1)$ and $u_{t} \\thicksim (0,\\sigma_{u}^{2})$"
   ]
  },
  {
   "cell_type": "markdown",
   "metadata": {},
   "source": [
    "## Estimate RealGARCH(1,1)\n",
    "Use a two step approach since the likelihood han be split up into two components\n",
    "\\begin{equation}\n",
    "L(\\theta)=\\frac{-1}{2}\\sum_{t=1}^{T} ln(h_{t})+\\frac{r_{t}^{2}}{h_{t}}+ln(\\sigma_{u}^{2})+\\frac{u_{t}^{2}}{\\sigma_{u}^{2}} \\\\\n",
    "L(r,x; \\theta)= \\frac{-1}{2}\\sum_{t=1}^{T} ln(h_{t})+\\frac{r_{t}^{2}}{h_{t}} - \\frac{1}{2}\\sum_{t=1}^{T} \n",
    "ln(\\sigma_{u}^{2})+\\frac{u_{t}^{2}}{\\sigma_{u}^{2}} \\\\\n",
    "L(r,x; \\theta)= L_{1}(r ; \\theta) + L_{2}(x \\mid r ;\\theta) \n",
    "\\end{equation}"
   ]
  },
  {
   "cell_type": "code",
   "execution_count": 44,
   "metadata": {},
   "outputs": [],
   "source": [
    "#Annualized Realized Kernel Variance for S&P 500 index\n",
    "RV_X=np.sqrt(251)*data_rg.rk_sp.values*1000"
   ]
  },
  {
   "cell_type": "code",
   "execution_count": 43,
   "metadata": {},
   "outputs": [],
   "source": [
    "#take returns in percentage points S&P 500 index\n",
    "X=data_rg.rt_sp.values*100"
   ]
  },
  {
   "cell_type": "code",
   "execution_count": 12,
   "metadata": {},
   "outputs": [
    {
     "data": {
      "image/png": "[encoded data removed]",
      "text/plain": [
       "<matplotlib.figure.Figure at 0x277eef34f28>"
      ]
     },
     "metadata": {},
     "output_type": "display_data"
    }
   ],
   "source": [
    "plt.plot(range(len(RV_X)),RV_X)\n",
    "#plt.hist(RV_X, bins=50)\n",
    "plt.xlabel('observations')\n",
    "plt.ylabel('Annualized Realized Kernel Volatility');"
   ]
  },
  {
   "cell_type": "markdown",
   "metadata": {},
   "source": [
    "### 1. Estimate a GARCH-X(1) model\n",
    "Estimate\n",
    "\\begin{equation}\n",
    "r_{t}=\\sqrt{h_{t}}z_{t} \\\\\n",
    "h_{t}=\\omega + \\beta h_{t-1}+ \\gamma x_{t-1} \n",
    "\\end{equation}\n",
    "Extension $h_{t}=\\omega + \\beta h_{t-1}+ \\gamma x_{t-1} +\\alpha z_{t-1}^{2}$  \n",
    "\n",
    "Maximize the likelihood function $L_{1}(r ; \\theta)$ given $x_{t}$"
   ]
  },
  {
   "cell_type": "code",
   "execution_count": 13,
   "metadata": {},
   "outputs": [],
   "source": [
    "# Here's our function to compute the sigmas given the initial guess and observed past realized volatilities\n",
    "def compute_squared_sigmas_RV(X, RV, initial_sigma, theta):\n",
    "    \n",
    "    a0 = theta[0]\n",
    "    a1 = theta[1]\n",
    "    b1 = theta[2]\n",
    "    \n",
    "    T = len(X)\n",
    "    sigma2 = np.ndarray(T)\n",
    "    \n",
    "    sigma2[0] = initial_sigma ** 2\n",
    "    \n",
    "    for t in range(1, T):\n",
    "        # Here's where we apply the equation\n",
    "        sigma2[t] = a0 + a1 * RV[t-1] + b1 * sigma2[t-1]\n",
    "    \n",
    "    return sigma2"
   ]
  },
  {
   "cell_type": "code",
   "execution_count": 14,
   "metadata": {},
   "outputs": [
    {
     "data": {
      "text/plain": [
       "1.6821341848969895"
      ]
     },
     "execution_count": 14,
     "metadata": {},
     "output_type": "execute_result"
    }
   ],
   "source": [
    "#initial sigma\n",
    "np.mean(RV_X)"
   ]
  },
  {
   "cell_type": "code",
   "execution_count": 15,
   "metadata": {},
   "outputs": [],
   "source": [
    "sig_rv=compute_squared_sigmas_RV(X, RV_X, np.mean(RV_X), (1, 0.5, 0.5))"
   ]
  },
  {
   "cell_type": "code",
   "execution_count": 16,
   "metadata": {},
   "outputs": [
    {
     "data": {
      "image/png": "[encoded data removed]",
      "text/plain": [
       "<matplotlib.figure.Figure at 0x277eef5f9e8>"
      ]
     },
     "metadata": {},
     "output_type": "display_data"
    }
   ],
   "source": [
    "plt.plot(range(len(X)), sig_rv)\n",
    "plt.xlabel('Time')\n",
    "plt.ylabel('Sigma with Realized Kernel ');"
   ]
  },
  {
   "cell_type": "code",
   "execution_count": 17,
   "metadata": {},
   "outputs": [],
   "source": [
    "def negative_log_likelihood_X(X,RV,theta):\n",
    "    \n",
    "    T = len(X)\n",
    "    \n",
    "    # Estimate initial sigma squared\n",
    "    initial_sigma = np.mean(RV)\n",
    "    \n",
    "    # Generate the squared sigma values\n",
    "    sigma2 = compute_squared_sigmas_RV(X,RV,initial_sigma, theta)\n",
    "    \n",
    "    # Now actually compute\n",
    "    return -sum(\n",
    "        [-np.log(np.sqrt(2.0 * np.pi)) -\n",
    "        (X[t] ** 2) / (2.0 * sigma2[t]) -\n",
    "        0.5 * np.log(sigma2[t]) for\n",
    "         t in range(T)]\n",
    "    )"
   ]
  },
  {
   "cell_type": "code",
   "execution_count": 18,
   "metadata": {},
   "outputs": [
    {
     "data": {
      "text/plain": [
       "6619.9815290810902"
      ]
     },
     "execution_count": 18,
     "metadata": {},
     "output_type": "execute_result"
    }
   ],
   "source": [
    "negative_log_likelihood_X(X,RV_X,(1, 0.5, 0.5))"
   ]
  },
  {
   "cell_type": "code",
   "execution_count": 19,
   "metadata": {},
   "outputs": [
    {
     "name": "stderr",
     "output_type": "stream",
     "text": [
      "C:\\cconda\\lib\\site-packages\\ipykernel_launcher.py:16: RuntimeWarning: invalid value encountered in log\n",
      "  app.launch_new_instance()\n"
     ]
    },
    {
     "name": "stdout",
     "output_type": "stream",
     "text": [
      "theta MLE: [ 0.02435975  0.46980374  0.45606588]\n"
     ]
    }
   ],
   "source": [
    "# Make our objective function by plugging X into our log likelihood function\n",
    "objective = partial(negative_log_likelihood_X, X,RV_X)\n",
    "\n",
    "# Define the constraints for our minimizer\n",
    "def constraint1(theta):\n",
    "    return np.array([1 - (theta[1] + theta[2])])\n",
    "\n",
    "def constraint2(theta):\n",
    "    return np.array([theta[1]])\n",
    "\n",
    "def constraint3(theta):\n",
    "    return np.array([theta[2]])\n",
    "\n",
    "cons = ({'type': 'ineq', 'fun': constraint1},\n",
    "        {'type': 'ineq', 'fun': constraint2},\n",
    "        {'type': 'ineq', 'fun': constraint3})\n",
    "\n",
    "# Actually do the minimization\n",
    "result = scipy.optimize.minimize(objective, (1, 0.5, 0.5),\n",
    "                        method='SLSQP',\n",
    "                        constraints = cons)\n",
    "theta_mle = result.x\n",
    "print('theta MLE: ' + str(theta_mle))"
   ]
  },
  {
   "cell_type": "code",
   "execution_count": 20,
   "metadata": {},
   "outputs": [],
   "source": [
    "#fitted sigmas\n",
    "sigma2_rv_fit = compute_squared_sigmas_RV(X, RV_X, np.mean(RV_X), theta_mle)"
   ]
  },
  {
   "cell_type": "code",
   "execution_count": 21,
   "metadata": {},
   "outputs": [
    {
     "data": {
      "image/png": "[encoded data removed]",
      "text/plain": [
       "<matplotlib.figure.Figure at 0x277ef006160>"
      ]
     },
     "metadata": {},
     "output_type": "display_data"
    }
   ],
   "source": [
    "plt.plot(range(len(sigma2_rv_fit)), sigma2_rv_fit)\n",
    "#plt.hist(sigma2_rv_fit, bins=50)\n",
    "plt.xlabel('Time')\n",
    "plt.ylabel('Sigma with Realized Kernel Fit ');"
   ]
  },
  {
   "cell_type": "markdown",
   "metadata": {},
   "source": [
    "### 2. Estimate Measurement Equation\n",
    "Likelihood function $L_{2}(x \\mid r ;\\theta)$ for linear measurement equation given an estimated value for $\\{h_{t}\\}_{t=1}^{T}$\n",
    "\n",
    "The maximun likelihood estimator for the measurement equation is equivalent to the OLS estimator of,\n",
    "\n",
    "\\begin{equation}\n",
    "x_{t}= \\xi + \\varphi h_{t}+ \\tau_{1}z_{t}+ \\tau_{2}(z_{t}^{2}-1) +u_{t}, u_{t} \\thicksim (0,\\sigma_{u}^{2})\n",
    "\\end{equation}"
   ]
  },
  {
   "cell_type": "code",
   "execution_count": 22,
   "metadata": {},
   "outputs": [],
   "source": [
    "from sklearn import linear_model\n",
    "reg = linear_model.LinearRegression()"
   ]
  },
  {
   "cell_type": "code",
   "execution_count": 26,
   "metadata": {},
   "outputs": [],
   "source": [
    "#obtain estimated residuals and innovations for leverage effects\n",
    "Z=X/np.sqrt(sigma2_rv_fit)\n",
    "Z2=(Z**2)-1\n",
    "#independent variables for OLS\n",
    "X_=np.matrix([sigma2_rv_fit,Z,Z2]).reshape(3,len(Z)).transpose()"
   ]
  },
  {
   "cell_type": "code",
   "execution_count": 27,
   "metadata": {},
   "outputs": [
    {
     "data": {
      "text/plain": [
       "LinearRegression(copy_X=True, fit_intercept=True, n_jobs=1, normalize=False)"
      ]
     },
     "execution_count": 27,
     "metadata": {},
     "output_type": "execute_result"
    }
   ],
   "source": [
    "reg.fit(X_,RV_X)"
   ]
  },
  {
   "cell_type": "code",
   "execution_count": 31,
   "metadata": {},
   "outputs": [
    {
     "name": "stdout",
     "output_type": "stream",
     "text": [
      "(varphi,tau1,tau2) [ 0.94906391 -0.18991759  0.2796924 ]\n"
     ]
    }
   ],
   "source": [
    "print(\"(varphi,tau1,tau2) \"+str(reg.coef_))"
   ]
  },
  {
   "cell_type": "code",
   "execution_count": 32,
   "metadata": {},
   "outputs": [
    {
     "name": "stdout",
     "output_type": "stream",
     "text": [
      "xi 0.266552887084\n"
     ]
    }
   ],
   "source": [
    "print(\"xi \"+str(reg.intercept_))"
   ]
  },
  {
   "cell_type": "code",
   "execution_count": 33,
   "metadata": {},
   "outputs": [],
   "source": [
    "#estimated residuals for measurement equation\n",
    "ut=RV_X-reg.predict(X_)"
   ]
  },
  {
   "cell_type": "code",
   "execution_count": 34,
   "metadata": {},
   "outputs": [],
   "source": [
    "sigma_u=np.dot(ut.transpose(),ut)/len(ut)"
   ]
  },
  {
   "cell_type": "code",
   "execution_count": 36,
   "metadata": {},
   "outputs": [
    {
     "name": "stdout",
     "output_type": "stream",
     "text": [
      "sigma_{u} 6.96916155273\n"
     ]
    }
   ],
   "source": [
    "print(\"sigma_{u} \"+str(sigma_u))"
   ]
  },
  {
   "cell_type": "code",
   "execution_count": 37,
   "metadata": {},
   "outputs": [],
   "source": [
    "#estimate log likelihood for full model\n",
    "def negative_log_likelihood_ReGarch(X,RV,theta,sigma_u,ut):\n",
    "    \n",
    "    T = len(X)\n",
    "    \n",
    "    # Estimate initial sigma squared\n",
    "    initial_sigma = np.mean(RV)\n",
    "    \n",
    "    # Generate the squared sigma values\n",
    "    sigma2 = compute_squared_sigmas_RV(X,RV,initial_sigma, theta)\n",
    "    \n",
    "    # Now actually compute\n",
    "    return -sum(\n",
    "        [-np.log(np.sqrt(2.0 * np.pi)) -\n",
    "        (X[t] ** 2) / (2.0 * sigma2[t]) -\n",
    "        0.5 * np.log(sigma2[t]) +\n",
    "        0.5 * np.log(sigma_u)  +\n",
    "         (ut[t] ** 2) / (2.0 * sigma_u)\n",
    "         for t in range(T)]\n",
    "    )"
   ]
  },
  {
   "cell_type": "code",
   "execution_count": 38,
   "metadata": {},
   "outputs": [
    {
     "data": {
      "text/plain": [
       "-627.7515461014325"
      ]
     },
     "execution_count": 38,
     "metadata": {},
     "output_type": "execute_result"
    }
   ],
   "source": [
    "negative_log_likelihood_ReGarch(X,RV_X,theta_mle,sigma_u,ut)"
   ]
  },
  {
   "cell_type": "markdown",
   "metadata": {},
   "source": [
    "### 3.  Statistics for Asymetries in the leverage function\n",
    "Slope of the news impact curve for negative and positive returns\n",
    "\\begin{equation}\n",
    "\\rho^{-}= corr (\\tau(z_{t})+u_{t},z_{t} \\mid z_{t}<0) \n",
    "\\end{equation}\n",
    "\n",
    "\\begin{equation}\n",
    "\\rho^{+}= corr (\\tau(z_{t})+u_{t},z_{t} \\mid z_{t}>0) \n",
    "\\end{equation}"
   ]
  },
  {
   "cell_type": "code",
   "execution_count": 39,
   "metadata": {},
   "outputs": [],
   "source": [
    "Lev=reg.coef_[1]*Z+reg.coef_[2]*Z2+ut  "
   ]
  },
  {
   "cell_type": "code",
   "execution_count": 40,
   "metadata": {},
   "outputs": [
    {
     "name": "stdout",
     "output_type": "stream",
     "text": [
      "Correlation innovations measurement equation -0.0964136652468\n"
     ]
    }
   ],
   "source": [
    "print(\"Correlation innovations measurement equation \"+str(np.corrcoef(Lev,Z)[0,1]))"
   ]
  },
  {
   "cell_type": "code",
   "execution_count": 41,
   "metadata": {},
   "outputs": [
    {
     "name": "stdout",
     "output_type": "stream",
     "text": [
      "Average slope News Impact Curve (negative returns) -0.217290077693\n"
     ]
    }
   ],
   "source": [
    "pL=np.corrcoef(Lev[Z<0],Z[Z<0])\n",
    "print(\"Average slope News Impact Curve (negative returns) \"+str(pL[0,1]))"
   ]
  },
  {
   "cell_type": "code",
   "execution_count": 42,
   "metadata": {},
   "outputs": [
    {
     "name": "stdout",
     "output_type": "stream",
     "text": [
      "Average slope News Impact Curve (positive returns) 0.12202591376\n"
     ]
    }
   ],
   "source": [
    "pH=np.corrcoef(Lev[Z>0],Z[Z>0])\n",
    "print(\"Average slope News Impact Curve (positive returns) \"+str(pH[0,1]))"
   ]
  },
  {
   "cell_type": "markdown",
   "metadata": {
    "collapsed": true
   },
   "source": [
    "### 4. Obtain Standard errors from QMLE sandwich estimator\n",
    "for parameters from $L_{1}(r ; \\theta)$, see paper for equations\n",
    "\\begin{equation}\n",
    "\\sqrt{n}(\\hat{\\theta}_{n}-\\theta) \\rightarrow N(0,I_{\\theta}^{-1}J_{\\theta}I_{\\theta}^{-1})  \n",
    "\\end{equation}"
   ]
  },
  {
   "cell_type": "code",
   "execution_count": null,
   "metadata": {},
   "outputs": [],
   "source": []
  }
 ],
 "metadata": {
  "kernelspec": {
   "display_name": "Python 3",
   "language": "python",
   "name": "python3"
  },
  "language_info": {
   "codemirror_mode": {
    "name": "ipython",
    "version": 3
   },
   "file_extension": ".py",
   "mimetype": "text/x-python",
   "name": "python",
   "nbconvert_exporter": "python",
   "pygments_lexer": "ipython3",
   "version": "3.5.4"
  },
  "nbTranslate": {
   "displayLangs": [
    "*"
   ],
   "hotkey": "alt-t",
   "langInMainMenu": true,
   "sourceLang": "en",
   "targetLang": "fr",
   "useGoogleTranslate": true
  }
 },
 "nbformat": 4,
 "nbformat_minor": 2
}
