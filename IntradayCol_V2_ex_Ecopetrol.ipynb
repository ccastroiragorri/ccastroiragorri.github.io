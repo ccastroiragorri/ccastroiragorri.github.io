{
 "cells": [
  {
   "cell_type": "markdown",
   "metadata": {},
   "source": [
    "# Visualization of the Colombian Intraday Market"
   ]
  },
  {
   "cell_type": "code",
   "execution_count": 1,
   "metadata": {
    "collapsed": true
   },
   "outputs": [],
   "source": [
    "import pandas as pd\n",
    "import numpy as np"
   ]
  },
  {
   "cell_type": "code",
   "execution_count": 2,
   "metadata": {
    "collapsed": true
   },
   "outputs": [],
   "source": [
    "intra = pd.read_csv('data_truncada_1m.csv', parse_dates=[2], sep=',',na_values='NA')"
   ]
  },
  {
   "cell_type": "code",
   "execution_count": null,
   "metadata": {},
   "outputs": [],
   "source": [
    "intra.tail()"
   ]
  },
  {
   "cell_type": "code",
   "execution_count": 3,
   "metadata": {
    "collapsed": true
   },
   "outputs": [],
   "source": [
    "intra=intra.drop(['Unnamed: 0','dia','dia.1','Quoted_spread'],axis=1)"
   ]
  },
  {
   "cell_type": "code",
   "execution_count": 4,
   "metadata": {
    "collapsed": true
   },
   "outputs": [],
   "source": [
    "intra.columns=['nombre','date_time','tipo','precio','volumen','bid','ask','mid_price','bid_depth','ask_depth','depth','quote_spread']"
   ]
  },
  {
   "cell_type": "code",
   "execution_count": 5,
   "metadata": {},
   "outputs": [
    {
     "name": "stdout",
     "output_type": "stream",
     "text": [
      "<class 'pandas.core.frame.DataFrame'>\n",
      "RangeIndex: 649501 entries, 0 to 649500\n",
      "Data columns (total 12 columns):\n",
      "nombre          649501 non-null object\n",
      "date_time       649501 non-null datetime64[ns]\n",
      "tipo            649501 non-null object\n",
      "precio          649501 non-null int64\n",
      "volumen         649501 non-null float64\n",
      "bid             619327 non-null float64\n",
      "ask             619327 non-null float64\n",
      "mid_price       619327 non-null float64\n",
      "bid_depth       619327 non-null float64\n",
      "ask_depth       619327 non-null float64\n",
      "depth           619327 non-null float64\n",
      "quote_spread    619327 non-null float64\n",
      "dtypes: datetime64[ns](1), float64(8), int64(1), object(2)\n",
      "memory usage: 59.5+ MB\n"
     ]
    }
   ],
   "source": [
    "intra.info()"
   ]
  },
  {
   "cell_type": "markdown",
   "metadata": {},
   "source": [
    "## 1. Volumen para una accion, Ejemplo Ecopetrol Marzo a Agosto 2017"
   ]
  },
  {
   "cell_type": "code",
   "execution_count": 6,
   "metadata": {
    "collapsed": true
   },
   "outputs": [],
   "source": [
    "ass=intra[(intra.nombre=='ECOPETL CB Equity') & (intra.tipo==\"TRADE\")]\n",
    "ass.index=ass.date_time\n",
    "ass=ass.drop('date_time',axis=1)"
   ]
  },
  {
   "cell_type": "code",
   "execution_count": null,
   "metadata": {},
   "outputs": [],
   "source": [
    "ass.info()"
   ]
  },
  {
   "cell_type": "code",
   "execution_count": 7,
   "metadata": {},
   "outputs": [
    {
     "data": {
      "text/plain": [
       "17402"
      ]
     },
     "execution_count": 7,
     "metadata": {},
     "output_type": "execute_result"
    }
   ],
   "source": [
    "#agregate every 15 minutes\n",
    "vol15min=ass.volumen.resample(\"15T\").sum().fillna(value=0)\n",
    "len(vol15min)"
   ]
  },
  {
   "cell_type": "code",
   "execution_count": 8,
   "metadata": {},
   "outputs": [
    {
     "data": {
      "text/plain": [
       "5094"
      ]
     },
     "execution_count": 8,
     "metadata": {},
     "output_type": "execute_result"
    }
   ],
   "source": [
    "#select only trading time for each day\n",
    "vol15min=vol15min[(vol15min.index.hour>=9) & (vol15min.index.hour<16)]\n",
    "len(vol15min)"
   ]
  },
  {
   "cell_type": "code",
   "execution_count": 9,
   "metadata": {
    "collapsed": true
   },
   "outputs": [],
   "source": [
    "vol15min=vol15min.reset_index()"
   ]
  },
  {
   "cell_type": "code",
   "execution_count": 10,
   "metadata": {},
   "outputs": [
    {
     "data": {
      "text/html": [
       "<div>\n",
       "<style>\n",
       "    .dataframe thead tr:only-child th {\n",
       "        text-align: right;\n",
       "    }\n",
       "\n",
       "    .dataframe thead th {\n",
       "        text-align: left;\n",
       "    }\n",
       "\n",
       "    .dataframe tbody tr th {\n",
       "        vertical-align: top;\n",
       "    }\n",
       "</style>\n",
       "<table border=\"1\" class=\"dataframe\">\n",
       "  <thead>\n",
       "    <tr style=\"text-align: right;\">\n",
       "      <th></th>\n",
       "      <th>date_time</th>\n",
       "      <th>volumen</th>\n",
       "      <th>date</th>\n",
       "      <th>time</th>\n",
       "    </tr>\n",
       "  </thead>\n",
       "  <tbody>\n",
       "    <tr>\n",
       "      <th>0</th>\n",
       "      <td>2017-03-03 09:30:00</td>\n",
       "      <td>131252.0</td>\n",
       "      <td>2017-03-03</td>\n",
       "      <td>09:30:00</td>\n",
       "    </tr>\n",
       "    <tr>\n",
       "      <th>1</th>\n",
       "      <td>2017-03-03 09:45:00</td>\n",
       "      <td>464515.0</td>\n",
       "      <td>2017-03-03</td>\n",
       "      <td>09:45:00</td>\n",
       "    </tr>\n",
       "    <tr>\n",
       "      <th>2</th>\n",
       "      <td>2017-03-03 10:00:00</td>\n",
       "      <td>194165.0</td>\n",
       "      <td>2017-03-03</td>\n",
       "      <td>10:00:00</td>\n",
       "    </tr>\n",
       "    <tr>\n",
       "      <th>3</th>\n",
       "      <td>2017-03-03 10:15:00</td>\n",
       "      <td>569081.0</td>\n",
       "      <td>2017-03-03</td>\n",
       "      <td>10:15:00</td>\n",
       "    </tr>\n",
       "    <tr>\n",
       "      <th>4</th>\n",
       "      <td>2017-03-03 10:30:00</td>\n",
       "      <td>307007.0</td>\n",
       "      <td>2017-03-03</td>\n",
       "      <td>10:30:00</td>\n",
       "    </tr>\n",
       "  </tbody>\n",
       "</table>\n",
       "</div>"
      ],
      "text/plain": [
       "            date_time   volumen       date      time\n",
       "0 2017-03-03 09:30:00  131252.0 2017-03-03  09:30:00\n",
       "1 2017-03-03 09:45:00  464515.0 2017-03-03  09:45:00\n",
       "2 2017-03-03 10:00:00  194165.0 2017-03-03  10:00:00\n",
       "3 2017-03-03 10:15:00  569081.0 2017-03-03  10:15:00\n",
       "4 2017-03-03 10:30:00  307007.0 2017-03-03  10:30:00"
      ]
     },
     "execution_count": 10,
     "metadata": {},
     "output_type": "execute_result"
    }
   ],
   "source": [
    "vol15min['date']=pd.to_datetime(vol15min.date_time.dt.date)\n",
    "vol15min['time']=vol15min.date_time.dt.time\n",
    "vol15min.head()"
   ]
  },
  {
   "cell_type": "code",
   "execution_count": 11,
   "metadata": {},
   "outputs": [
    {
     "data": {
      "text/html": [
       "<div>\n",
       "<style>\n",
       "    .dataframe thead tr:only-child th {\n",
       "        text-align: right;\n",
       "    }\n",
       "\n",
       "    .dataframe thead th {\n",
       "        text-align: left;\n",
       "    }\n",
       "\n",
       "    .dataframe tbody tr th {\n",
       "        vertical-align: top;\n",
       "    }\n",
       "</style>\n",
       "<table border=\"1\" class=\"dataframe\">\n",
       "  <thead>\n",
       "    <tr style=\"text-align: right;\">\n",
       "      <th></th>\n",
       "      <th>date_time</th>\n",
       "      <th>volumen</th>\n",
       "      <th>date</th>\n",
       "      <th>time</th>\n",
       "    </tr>\n",
       "  </thead>\n",
       "  <tbody>\n",
       "    <tr>\n",
       "      <th>5089</th>\n",
       "      <td>2017-08-31 14:45:00</td>\n",
       "      <td>5908.0</td>\n",
       "      <td>2017-08-31</td>\n",
       "      <td>14:45:00</td>\n",
       "    </tr>\n",
       "    <tr>\n",
       "      <th>5090</th>\n",
       "      <td>2017-08-31 15:00:00</td>\n",
       "      <td>1043167.0</td>\n",
       "      <td>2017-08-31</td>\n",
       "      <td>15:00:00</td>\n",
       "    </tr>\n",
       "    <tr>\n",
       "      <th>5091</th>\n",
       "      <td>2017-08-31 15:15:00</td>\n",
       "      <td>603714.0</td>\n",
       "      <td>2017-08-31</td>\n",
       "      <td>15:15:00</td>\n",
       "    </tr>\n",
       "    <tr>\n",
       "      <th>5092</th>\n",
       "      <td>2017-08-31 15:30:00</td>\n",
       "      <td>1309145.0</td>\n",
       "      <td>2017-08-31</td>\n",
       "      <td>15:30:00</td>\n",
       "    </tr>\n",
       "    <tr>\n",
       "      <th>5093</th>\n",
       "      <td>2017-08-31 15:45:00</td>\n",
       "      <td>560582.0</td>\n",
       "      <td>2017-08-31</td>\n",
       "      <td>15:45:00</td>\n",
       "    </tr>\n",
       "  </tbody>\n",
       "</table>\n",
       "</div>"
      ],
      "text/plain": [
       "               date_time    volumen       date      time\n",
       "5089 2017-08-31 14:45:00     5908.0 2017-08-31  14:45:00\n",
       "5090 2017-08-31 15:00:00  1043167.0 2017-08-31  15:00:00\n",
       "5091 2017-08-31 15:15:00   603714.0 2017-08-31  15:15:00\n",
       "5092 2017-08-31 15:30:00  1309145.0 2017-08-31  15:30:00\n",
       "5093 2017-08-31 15:45:00   560582.0 2017-08-31  15:45:00"
      ]
     },
     "execution_count": 11,
     "metadata": {},
     "output_type": "execute_result"
    }
   ],
   "source": [
    "vol15min.tail()"
   ]
  },
  {
   "cell_type": "code",
   "execution_count": 12,
   "metadata": {
    "collapsed": true
   },
   "outputs": [],
   "source": [
    "#Create Business days Colombia\n",
    "weekmask='Mon Tue Wed Thu Fri'\n",
    "holydays=[pd.datetime(2017, 1, 9),pd.datetime(2017, 3, 20),pd.datetime(2017, 4, 13),\n",
    "         pd.datetime(2017, 4, 14),pd.datetime(2017, 5, 1),pd.datetime(2017, 5, 29),\n",
    "         pd.datetime(2017, 6, 19),pd.datetime(2017, 6, 26),pd.datetime(2017, 7, 3),\n",
    "         pd.datetime(2017, 7, 20),pd.datetime(2017, 8, 7),pd.datetime(2017, 8, 21),\n",
    "         pd.datetime(2017, 10, 16),pd.datetime(2017, 11, 6),pd.datetime(2017, 11, 13),\n",
    "         pd.datetime(2017, 12, 8),pd.datetime(2017, 12, 25)]\n",
    "BdaysCol2017=pd.bdate_range(start=pd.datetime(2017, 1, 1),end=pd.datetime(2017, 12, 31),\n",
    "                           weekmask=weekmask,holidays=holydays)"
   ]
  },
  {
   "cell_type": "code",
   "execution_count": 13,
   "metadata": {
    "collapsed": true
   },
   "outputs": [],
   "source": [
    "#select only business days colombia\n",
    "vol15minF=vol15min[vol15min.date.isin(BdaysCol2017)]"
   ]
  },
  {
   "cell_type": "code",
   "execution_count": 14,
   "metadata": {},
   "outputs": [
    {
     "data": {
      "text/plain": [
       "3638"
      ]
     },
     "execution_count": 14,
     "metadata": {},
     "output_type": "execute_result"
    }
   ],
   "source": [
    "len(vol15minF)"
   ]
  },
  {
   "cell_type": "code",
   "execution_count": 15,
   "metadata": {},
   "outputs": [
    {
     "data": {
      "text/html": [
       "<div>\n",
       "<style>\n",
       "    .dataframe thead tr:only-child th {\n",
       "        text-align: right;\n",
       "    }\n",
       "\n",
       "    .dataframe thead th {\n",
       "        text-align: left;\n",
       "    }\n",
       "\n",
       "    .dataframe tbody tr th {\n",
       "        vertical-align: top;\n",
       "    }\n",
       "</style>\n",
       "<table border=\"1\" class=\"dataframe\">\n",
       "  <thead>\n",
       "    <tr style=\"text-align: right;\">\n",
       "      <th></th>\n",
       "      <th>date_time</th>\n",
       "      <th>volumen</th>\n",
       "      <th>date</th>\n",
       "      <th>time</th>\n",
       "    </tr>\n",
       "  </thead>\n",
       "  <tbody>\n",
       "    <tr>\n",
       "      <th>0</th>\n",
       "      <td>2017-03-03 09:30:00</td>\n",
       "      <td>131252.0</td>\n",
       "      <td>2017-03-03</td>\n",
       "      <td>09:30:00</td>\n",
       "    </tr>\n",
       "    <tr>\n",
       "      <th>1</th>\n",
       "      <td>2017-03-03 09:45:00</td>\n",
       "      <td>464515.0</td>\n",
       "      <td>2017-03-03</td>\n",
       "      <td>09:45:00</td>\n",
       "    </tr>\n",
       "    <tr>\n",
       "      <th>2</th>\n",
       "      <td>2017-03-03 10:00:00</td>\n",
       "      <td>194165.0</td>\n",
       "      <td>2017-03-03</td>\n",
       "      <td>10:00:00</td>\n",
       "    </tr>\n",
       "    <tr>\n",
       "      <th>3</th>\n",
       "      <td>2017-03-03 10:15:00</td>\n",
       "      <td>569081.0</td>\n",
       "      <td>2017-03-03</td>\n",
       "      <td>10:15:00</td>\n",
       "    </tr>\n",
       "    <tr>\n",
       "      <th>4</th>\n",
       "      <td>2017-03-03 10:30:00</td>\n",
       "      <td>307007.0</td>\n",
       "      <td>2017-03-03</td>\n",
       "      <td>10:30:00</td>\n",
       "    </tr>\n",
       "  </tbody>\n",
       "</table>\n",
       "</div>"
      ],
      "text/plain": [
       "            date_time   volumen       date      time\n",
       "0 2017-03-03 09:30:00  131252.0 2017-03-03  09:30:00\n",
       "1 2017-03-03 09:45:00  464515.0 2017-03-03  09:45:00\n",
       "2 2017-03-03 10:00:00  194165.0 2017-03-03  10:00:00\n",
       "3 2017-03-03 10:15:00  569081.0 2017-03-03  10:15:00\n",
       "4 2017-03-03 10:30:00  307007.0 2017-03-03  10:30:00"
      ]
     },
     "execution_count": 15,
     "metadata": {},
     "output_type": "execute_result"
    }
   ],
   "source": [
    "vol15minF.head()"
   ]
  },
  {
   "cell_type": "code",
   "execution_count": 16,
   "metadata": {
    "collapsed": true
   },
   "outputs": [],
   "source": [
    "vol15minF=vol15minF.drop(['date','time'],axis=1)"
   ]
  },
  {
   "cell_type": "code",
   "execution_count": 17,
   "metadata": {},
   "outputs": [
    {
     "data": {
      "text/html": [
       "<div>\n",
       "<style>\n",
       "    .dataframe thead tr:only-child th {\n",
       "        text-align: right;\n",
       "    }\n",
       "\n",
       "    .dataframe thead th {\n",
       "        text-align: left;\n",
       "    }\n",
       "\n",
       "    .dataframe tbody tr th {\n",
       "        vertical-align: top;\n",
       "    }\n",
       "</style>\n",
       "<table border=\"1\" class=\"dataframe\">\n",
       "  <thead>\n",
       "    <tr style=\"text-align: right;\">\n",
       "      <th></th>\n",
       "      <th>date_time</th>\n",
       "      <th>volumen</th>\n",
       "    </tr>\n",
       "  </thead>\n",
       "  <tbody>\n",
       "    <tr>\n",
       "      <th>0</th>\n",
       "      <td>2017-03-03 09:30:00</td>\n",
       "      <td>131252.0</td>\n",
       "    </tr>\n",
       "    <tr>\n",
       "      <th>1</th>\n",
       "      <td>2017-03-03 09:45:00</td>\n",
       "      <td>464515.0</td>\n",
       "    </tr>\n",
       "    <tr>\n",
       "      <th>2</th>\n",
       "      <td>2017-03-03 10:00:00</td>\n",
       "      <td>194165.0</td>\n",
       "    </tr>\n",
       "    <tr>\n",
       "      <th>3</th>\n",
       "      <td>2017-03-03 10:15:00</td>\n",
       "      <td>569081.0</td>\n",
       "    </tr>\n",
       "    <tr>\n",
       "      <th>4</th>\n",
       "      <td>2017-03-03 10:30:00</td>\n",
       "      <td>307007.0</td>\n",
       "    </tr>\n",
       "  </tbody>\n",
       "</table>\n",
       "</div>"
      ],
      "text/plain": [
       "            date_time   volumen\n",
       "0 2017-03-03 09:30:00  131252.0\n",
       "1 2017-03-03 09:45:00  464515.0\n",
       "2 2017-03-03 10:00:00  194165.0\n",
       "3 2017-03-03 10:15:00  569081.0\n",
       "4 2017-03-03 10:30:00  307007.0"
      ]
     },
     "execution_count": 17,
     "metadata": {},
     "output_type": "execute_result"
    }
   ],
   "source": [
    "vol15minF.head()"
   ]
  },
  {
   "cell_type": "code",
   "execution_count": 18,
   "metadata": {
    "collapsed": true
   },
   "outputs": [],
   "source": [
    "#pivot\n",
    "vol15minF=vol15minF.pivot_table(index=[vol15minF.date_time.dt.date, vol15minF.date_time.dt.time]).unstack(1)"
   ]
  },
  {
   "cell_type": "code",
   "execution_count": 20,
   "metadata": {},
   "outputs": [],
   "source": [
    "#log (volume +1)\n",
    "vol15minP=np.log(vol15minF.iloc[:,2:]+1)\n",
    "#vol15minP.info()"
   ]
  },
  {
   "cell_type": "code",
   "execution_count": 21,
   "metadata": {},
   "outputs": [
    {
     "data": {
      "text/html": [
       "<div>\n",
       "<style>\n",
       "    .dataframe thead tr:only-child th {\n",
       "        text-align: right;\n",
       "    }\n",
       "\n",
       "    .dataframe thead th {\n",
       "        text-align: left;\n",
       "    }\n",
       "\n",
       "    .dataframe tbody tr th {\n",
       "        vertical-align: top;\n",
       "    }\n",
       "</style>\n",
       "<table border=\"1\" class=\"dataframe\">\n",
       "  <thead>\n",
       "    <tr>\n",
       "      <th></th>\n",
       "      <th colspan=\"21\" halign=\"left\">volumen</th>\n",
       "    </tr>\n",
       "    <tr>\n",
       "      <th>date_time</th>\n",
       "      <th>09:30:00</th>\n",
       "      <th>09:45:00</th>\n",
       "      <th>10:00:00</th>\n",
       "      <th>10:15:00</th>\n",
       "      <th>10:30:00</th>\n",
       "      <th>10:45:00</th>\n",
       "      <th>11:00:00</th>\n",
       "      <th>11:15:00</th>\n",
       "      <th>11:30:00</th>\n",
       "      <th>11:45:00</th>\n",
       "      <th>...</th>\n",
       "      <th>13:30:00</th>\n",
       "      <th>13:45:00</th>\n",
       "      <th>14:00:00</th>\n",
       "      <th>14:15:00</th>\n",
       "      <th>14:30:00</th>\n",
       "      <th>14:45:00</th>\n",
       "      <th>15:00:00</th>\n",
       "      <th>15:15:00</th>\n",
       "      <th>15:30:00</th>\n",
       "      <th>15:45:00</th>\n",
       "    </tr>\n",
       "    <tr>\n",
       "      <th>date_time</th>\n",
       "      <th></th>\n",
       "      <th></th>\n",
       "      <th></th>\n",
       "      <th></th>\n",
       "      <th></th>\n",
       "      <th></th>\n",
       "      <th></th>\n",
       "      <th></th>\n",
       "      <th></th>\n",
       "      <th></th>\n",
       "      <th></th>\n",
       "      <th></th>\n",
       "      <th></th>\n",
       "      <th></th>\n",
       "      <th></th>\n",
       "      <th></th>\n",
       "      <th></th>\n",
       "      <th></th>\n",
       "      <th></th>\n",
       "      <th></th>\n",
       "      <th></th>\n",
       "    </tr>\n",
       "  </thead>\n",
       "  <tbody>\n",
       "    <tr>\n",
       "      <th>2017-03-03</th>\n",
       "      <td>11.784882</td>\n",
       "      <td>13.048751</td>\n",
       "      <td>12.176469</td>\n",
       "      <td>13.251780</td>\n",
       "      <td>12.634629</td>\n",
       "      <td>13.581282</td>\n",
       "      <td>12.278630</td>\n",
       "      <td>9.527921</td>\n",
       "      <td>8.631593</td>\n",
       "      <td>6.908755</td>\n",
       "      <td>...</td>\n",
       "      <td>8.163656</td>\n",
       "      <td>7.265430</td>\n",
       "      <td>8.551208</td>\n",
       "      <td>0.000000</td>\n",
       "      <td>8.701513</td>\n",
       "      <td>10.878066</td>\n",
       "      <td>11.566210</td>\n",
       "      <td>11.866999</td>\n",
       "      <td>9.439943</td>\n",
       "      <td>11.317373</td>\n",
       "    </tr>\n",
       "    <tr>\n",
       "      <th>2017-03-06</th>\n",
       "      <td>13.480703</td>\n",
       "      <td>13.509140</td>\n",
       "      <td>11.673530</td>\n",
       "      <td>12.475775</td>\n",
       "      <td>8.272826</td>\n",
       "      <td>13.552984</td>\n",
       "      <td>14.383750</td>\n",
       "      <td>10.544920</td>\n",
       "      <td>10.576585</td>\n",
       "      <td>12.955144</td>\n",
       "      <td>...</td>\n",
       "      <td>8.006701</td>\n",
       "      <td>8.417373</td>\n",
       "      <td>7.313887</td>\n",
       "      <td>8.240385</td>\n",
       "      <td>9.018817</td>\n",
       "      <td>8.824825</td>\n",
       "      <td>11.888048</td>\n",
       "      <td>11.014753</td>\n",
       "      <td>10.040071</td>\n",
       "      <td>12.862149</td>\n",
       "    </tr>\n",
       "    <tr>\n",
       "      <th>2017-03-07</th>\n",
       "      <td>14.684590</td>\n",
       "      <td>11.910083</td>\n",
       "      <td>12.314003</td>\n",
       "      <td>12.741489</td>\n",
       "      <td>11.191356</td>\n",
       "      <td>12.186084</td>\n",
       "      <td>8.160804</td>\n",
       "      <td>10.994907</td>\n",
       "      <td>12.030921</td>\n",
       "      <td>14.048082</td>\n",
       "      <td>...</td>\n",
       "      <td>8.612685</td>\n",
       "      <td>8.533263</td>\n",
       "      <td>11.431184</td>\n",
       "      <td>11.925042</td>\n",
       "      <td>8.079928</td>\n",
       "      <td>7.673688</td>\n",
       "      <td>11.667662</td>\n",
       "      <td>11.514554</td>\n",
       "      <td>10.798207</td>\n",
       "      <td>10.275086</td>\n",
       "    </tr>\n",
       "    <tr>\n",
       "      <th>2017-03-08</th>\n",
       "      <td>12.639111</td>\n",
       "      <td>13.455557</td>\n",
       "      <td>12.477221</td>\n",
       "      <td>12.230512</td>\n",
       "      <td>12.136192</td>\n",
       "      <td>11.582843</td>\n",
       "      <td>14.511237</td>\n",
       "      <td>13.827900</td>\n",
       "      <td>12.253490</td>\n",
       "      <td>11.853290</td>\n",
       "      <td>...</td>\n",
       "      <td>12.757054</td>\n",
       "      <td>13.000243</td>\n",
       "      <td>13.851323</td>\n",
       "      <td>7.406103</td>\n",
       "      <td>13.751386</td>\n",
       "      <td>9.927643</td>\n",
       "      <td>0.000000</td>\n",
       "      <td>9.210440</td>\n",
       "      <td>12.871954</td>\n",
       "      <td>12.424606</td>\n",
       "    </tr>\n",
       "    <tr>\n",
       "      <th>2017-03-09</th>\n",
       "      <td>12.542927</td>\n",
       "      <td>13.366087</td>\n",
       "      <td>12.737615</td>\n",
       "      <td>9.606428</td>\n",
       "      <td>13.206706</td>\n",
       "      <td>13.366780</td>\n",
       "      <td>8.517393</td>\n",
       "      <td>10.948330</td>\n",
       "      <td>13.516138</td>\n",
       "      <td>12.054674</td>\n",
       "      <td>...</td>\n",
       "      <td>10.446190</td>\n",
       "      <td>6.216606</td>\n",
       "      <td>7.313887</td>\n",
       "      <td>11.273957</td>\n",
       "      <td>10.282027</td>\n",
       "      <td>13.170647</td>\n",
       "      <td>12.138377</td>\n",
       "      <td>12.698758</td>\n",
       "      <td>13.644403</td>\n",
       "      <td>13.382073</td>\n",
       "    </tr>\n",
       "  </tbody>\n",
       "</table>\n",
       "<p>5 rows × 26 columns</p>\n",
       "</div>"
      ],
      "text/plain": [
       "              volumen                                                         \\\n",
       "date_time    09:30:00   09:45:00   10:00:00   10:15:00   10:30:00   10:45:00   \n",
       "date_time                                                                      \n",
       "2017-03-03  11.784882  13.048751  12.176469  13.251780  12.634629  13.581282   \n",
       "2017-03-06  13.480703  13.509140  11.673530  12.475775   8.272826  13.552984   \n",
       "2017-03-07  14.684590  11.910083  12.314003  12.741489  11.191356  12.186084   \n",
       "2017-03-08  12.639111  13.455557  12.477221  12.230512  12.136192  11.582843   \n",
       "2017-03-09  12.542927  13.366087  12.737615   9.606428  13.206706  13.366780   \n",
       "\n",
       "                                                          ...                 \\\n",
       "date_time    11:00:00   11:15:00   11:30:00   11:45:00    ...       13:30:00   \n",
       "date_time                                                 ...                  \n",
       "2017-03-03  12.278630   9.527921   8.631593   6.908755    ...       8.163656   \n",
       "2017-03-06  14.383750  10.544920  10.576585  12.955144    ...       8.006701   \n",
       "2017-03-07   8.160804  10.994907  12.030921  14.048082    ...       8.612685   \n",
       "2017-03-08  14.511237  13.827900  12.253490  11.853290    ...      12.757054   \n",
       "2017-03-09   8.517393  10.948330  13.516138  12.054674    ...      10.446190   \n",
       "\n",
       "                                                                              \\\n",
       "date_time    13:45:00   14:00:00   14:15:00   14:30:00   14:45:00   15:00:00   \n",
       "date_time                                                                      \n",
       "2017-03-03   7.265430   8.551208   0.000000   8.701513  10.878066  11.566210   \n",
       "2017-03-06   8.417373   7.313887   8.240385   9.018817   8.824825  11.888048   \n",
       "2017-03-07   8.533263  11.431184  11.925042   8.079928   7.673688  11.667662   \n",
       "2017-03-08  13.000243  13.851323   7.406103  13.751386   9.927643   0.000000   \n",
       "2017-03-09   6.216606   7.313887  11.273957  10.282027  13.170647  12.138377   \n",
       "\n",
       "                                             \n",
       "date_time    15:15:00   15:30:00   15:45:00  \n",
       "date_time                                    \n",
       "2017-03-03  11.866999   9.439943  11.317373  \n",
       "2017-03-06  11.014753  10.040071  12.862149  \n",
       "2017-03-07  11.514554  10.798207  10.275086  \n",
       "2017-03-08   9.210440  12.871954  12.424606  \n",
       "2017-03-09  12.698758  13.644403  13.382073  \n",
       "\n",
       "[5 rows x 26 columns]"
      ]
     },
     "execution_count": 21,
     "metadata": {},
     "output_type": "execute_result"
    }
   ],
   "source": [
    "#Eliminate days with all 0, why do these exist Bloomberg error, preguntar Catalina\n",
    "vol15minP=vol15minP[vol15minP.sum(1)!=0]\n",
    "vol15minP.head()"
   ]
  },
  {
   "cell_type": "code",
   "execution_count": 22,
   "metadata": {
    "collapsed": true
   },
   "outputs": [],
   "source": [
    "volmedian=vol15minP.median(0)\n",
    "volq25=vol15minP.quantile(q=0.25,axis=0)\n",
    "volq75=vol15minP.quantile(q=0.75,axis=0)"
   ]
  },
  {
   "cell_type": "code",
   "execution_count": null,
   "metadata": {
    "collapsed": true
   },
   "outputs": [],
   "source": [
    "#vol15minP.to_excel('test.xlsx')"
   ]
  },
  {
   "cell_type": "markdown",
   "metadata": {},
   "source": [
    "## 2. Densidad del volumen Intradia en cada intervalo de tiempo: 15 minutos"
   ]
  },
  {
   "cell_type": "code",
   "execution_count": 23,
   "metadata": {},
   "outputs": [
    {
     "name": "stdout",
     "output_type": "stream",
     "text": [
      "0.0 18.0\n"
     ]
    }
   ],
   "source": [
    "#estimate Kernel density for each timestamp column using historical data\n",
    "Gmax=np.rint(vol15minP.values.max())\n",
    "Gmin=np.rint(vol15minP.values.min())\n",
    "print(Gmin,Gmax)"
   ]
  },
  {
   "cell_type": "code",
   "execution_count": 24,
   "metadata": {},
   "outputs": [],
   "source": [
    "#interval to visualize density\n",
    "lvols=np.arange(start=Gmin,stop=Gmax+1,step=1)\n",
    "#lvols"
   ]
  },
  {
   "cell_type": "code",
   "execution_count": 25,
   "metadata": {
    "collapsed": true
   },
   "outputs": [],
   "source": [
    "from scipy import stats"
   ]
  },
  {
   "cell_type": "code",
   "execution_count": 26,
   "metadata": {
    "collapsed": true
   },
   "outputs": [],
   "source": [
    "XX=vol15minP.as_matrix()"
   ]
  },
  {
   "cell_type": "code",
   "execution_count": 27,
   "metadata": {
    "collapsed": true
   },
   "outputs": [],
   "source": [
    "densM=[]\n",
    "for k in range(XX.shape[1]):\n",
    "    kde = stats.gaussian_kde((XX[:,k]))\n",
    "    densM.append(kde(lvols))"
   ]
  },
  {
   "cell_type": "code",
   "execution_count": 28,
   "metadata": {
    "collapsed": true
   },
   "outputs": [],
   "source": [
    "vol15minD=pd.DataFrame(np.reshape(densM,(26,19)).transpose(), index=lvols,columns=vol15minP.columns)\n",
    "#vol15minD.head()"
   ]
  },
  {
   "cell_type": "markdown",
   "metadata": {},
   "source": [
    "## 2. Visualizacion"
   ]
  },
  {
   "cell_type": "code",
   "execution_count": 29,
   "metadata": {},
   "outputs": [],
   "source": [
    "rvol15minD = vol15minD.iloc[::-1]\n",
    "rvol15minD.index=np.flipud(lvols)\n",
    "#rvol15minD.head()"
   ]
  },
  {
   "cell_type": "code",
   "execution_count": 30,
   "metadata": {
    "collapsed": true
   },
   "outputs": [],
   "source": [
    "timelab=('9:15','9:30','9:45','10:00','10:15','10:30','10:45','11:00',\n",
    "        '11:15','11:30','11:45','12:00','12:15','12:30','12:45','13:00','13:15',\n",
    "        '13:30','13:45','14:00','14:15','14:30','14:45','15:00','15:15','15:30','15:45')"
   ]
  },
  {
   "cell_type": "code",
   "execution_count": 31,
   "metadata": {
    "collapsed": true
   },
   "outputs": [],
   "source": [
    "import matplotlib.pyplot as plt"
   ]
  },
  {
   "cell_type": "code",
   "execution_count": 33,
   "metadata": {},
   "outputs": [
    {
     "data": {
      "image/png": "[encoded data removed]",
      "text/plain": [
       "<matplotlib.figure.Figure at 0xda32aaac88>"
      ]
     },
     "metadata": {},
     "output_type": "display_data"
    }
   ],
   "source": [
    "plt.figure(figsize=(14,10))\n",
    "plt.imshow(rvol15minD.values,cmap=plt.cm.Blues,interpolation='gaussian',\n",
    "          extent=[0, 26, 0, 18], vmax=rvol15minD.values.max(), vmin=rvol15minD.values.min())\n",
    "plt.colorbar(shrink=0.65)\n",
    "plt.plot(volmedian.values,color='red',linewidth=0.75)\n",
    "plt.plot(volq25.values,color='black',linewidth=0.25)\n",
    "plt.plot(volq75.values,color='black',linewidth=0.25)\n",
    "plt.grid(b='off')\n",
    "plt.ylabel('log(1+volume)')\n",
    "plt.xlabel('time')\n",
    "plt.title('Intraday Volume: Ecopetrol March-August 2017')\n",
    "plt.xticks(np.arange(27),timelab, rotation=17)\n",
    "plt.show()"
   ]
  },
  {
   "cell_type": "code",
   "execution_count": null,
   "metadata": {
    "collapsed": true
   },
   "outputs": [],
   "source": []
  }
 ],
 "metadata": {
  "kernelspec": {
   "display_name": "Python 3",
   "language": "python",
   "name": "python3"
  },
  "language_info": {
   "codemirror_mode": {
    "name": "ipython",
    "version": 3
   },
   "file_extension": ".py",
   "mimetype": "text/x-python",
   "name": "python",
   "nbconvert_exporter": "python",
   "pygments_lexer": "ipython3",
   "version": "3.6.1"
  },
  "nbTranslate": {
   "displayLangs": [
    "*"
   ],
   "hotkey": "alt-t",
   "langInMainMenu": true,
   "sourceLang": "en",
   "targetLang": "fr",
   "useGoogleTranslate": true
  }
 },
 "nbformat": 4,
 "nbformat_minor": 2
}
