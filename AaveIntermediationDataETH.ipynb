{
 "cells": [
  {
   "cell_type": "markdown",
   "metadata": {},
   "source": [
    "# Download Historical Data Aave"
   ]
  },
  {
   "cell_type": "code",
   "execution_count": 1,
   "metadata": {},
   "outputs": [],
   "source": [
    "#Libraries\n",
    "import pandas as pd\n",
    "import numpy as np\n",
    "import scipy\n",
    "import matplotlib.pyplot as plt\n",
    "import requests\n",
    "from datetime import datetime\n",
    "from pandas.io.json import json_normalize\n",
    "import pickle\n",
    "import os \n",
    "import sys\n",
    "from gql import gql, Client\n",
    "from gql.transport.requests import RequestsHTTPTransport"
   ]
  },
  {
   "cell_type": "code",
   "execution_count": 2,
   "metadata": {},
   "outputs": [],
   "source": [
    "pathAPI = os.getcwd()\n",
    "pathData = os.path.join(pathAPI,'graphData')"
   ]
  },
  {
   "cell_type": "code",
   "execution_count": 3,
   "metadata": {},
   "outputs": [],
   "source": [
    "#Define API\n",
    "sample_transport=RequestsHTTPTransport(\n",
    "   url='https://api.thegraph.com/subgraphs/name/aave/protocol-v2',\n",
    "   verify=True,\n",
    "   retries=5,\n",
    ")\n",
    "client = Client(\n",
    "   transport=sample_transport\n",
    ")"
   ]
  },
  {
   "cell_type": "code",
   "execution_count": 4,
   "metadata": {},
   "outputs": [],
   "source": [
    "#Assets\n",
    "WETH='0xc02aaa39b223fe8d0a0e5c4f27ead9083c756cc20xb53c1a33016b2dc2ff3653530bff1848a515c8c5'\n",
    "WBTC='0x2260fac5e5542a773aa44fbcfedf7c193bc2c5990xb53c1a33016b2dc2ff3653530bff1848a515c8c5'\n",
    "DAI='0x6b175474e89094c44da98b954eedeac495271d0f0xb53c1a33016b2dc2ff3653530bff1848a515c8c5'\n",
    "USDC='0xa0b86991c6218b36c1d19d4a2e9eb0ce3606eb480xb53c1a33016b2dc2ff3653530bff1848a515c8c5'\n",
    "USDT='0xdac17f958d2ee523a2206206994597c13d831ec70xb53c1a33016b2dc2ff3653530bff1848a515c8c5'"
   ]
  },
  {
   "cell_type": "code",
   "execution_count": 5,
   "metadata": {},
   "outputs": [],
   "source": [
    "#query USDT\n",
    "queryM = gql('''\n",
    "query {\n",
    "  reserve (id: \"0xc02aaa39b223fe8d0a0e5c4f27ead9083c756cc20xb53c1a33016b2dc2ff3653530bff1848a515c8c5\") { \n",
    "    id\n",
    "    paramsHistory(first: 1000) {\n",
    "      id\n",
    "      lifetimeFlashLoanPremium\n",
    "      lifetimeDepositorsInterestEarned\n",
    "      lifetimeReserveFactorAccrued\n",
    "      totalATokenSupply\n",
    "      totalPrincipalStableDebt\n",
    "      totalCurrentVariableDebt\n",
    "      utilizationRate\n",
    "      variableBorrowRate\n",
    "      stableBorrowRate\n",
    "      liquidityRate\n",
    "      priceInUsd\n",
    "      timestamp\n",
    "    }\n",
    "  }\n",
    "}\n",
    "''')"
   ]
  },
  {
   "cell_type": "code",
   "execution_count": 6,
   "metadata": {},
   "outputs": [],
   "source": [
    "dataM = client.execute(queryM)"
   ]
  },
  {
   "cell_type": "code",
   "execution_count": 7,
   "metadata": {},
   "outputs": [],
   "source": [
    "tblM=pd.json_normalize(dataM['reserve']['paramsHistory'])"
   ]
  },
  {
   "cell_type": "code",
   "execution_count": 8,
   "metadata": {},
   "outputs": [
    {
     "data": {
      "text/html": [
       "<div>\n",
       "<style scoped>\n",
       "    .dataframe tbody tr th:only-of-type {\n",
       "        vertical-align: middle;\n",
       "    }\n",
       "\n",
       "    .dataframe tbody tr th {\n",
       "        vertical-align: top;\n",
       "    }\n",
       "\n",
       "    .dataframe thead th {\n",
       "        text-align: right;\n",
       "    }\n",
       "</style>\n",
       "<table border=\"1\" class=\"dataframe\">\n",
       "  <thead>\n",
       "    <tr style=\"text-align: right;\">\n",
       "      <th></th>\n",
       "      <th>id</th>\n",
       "      <th>lifetimeDepositorsInterestEarned</th>\n",
       "      <th>lifetimeFlashLoanPremium</th>\n",
       "      <th>lifetimeReserveFactorAccrued</th>\n",
       "      <th>liquidityRate</th>\n",
       "      <th>priceInUsd</th>\n",
       "      <th>stableBorrowRate</th>\n",
       "      <th>timestamp</th>\n",
       "      <th>totalATokenSupply</th>\n",
       "      <th>totalCurrentVariableDebt</th>\n",
       "      <th>totalPrincipalStableDebt</th>\n",
       "      <th>utilizationRate</th>\n",
       "      <th>variableBorrowRate</th>\n",
       "    </tr>\n",
       "  </thead>\n",
       "  <tbody>\n",
       "    <tr>\n",
       "      <th>0</th>\n",
       "      <td>0x00002b10f2d75fa350309b3bc4178a01bdee3f065ff0...</td>\n",
       "      <td>405476969651544509790</td>\n",
       "      <td>1263501751809831950912</td>\n",
       "      <td>45082338772694628016</td>\n",
       "      <td>65905542899792816422411</td>\n",
       "      <td>3406.316027380001795144862001768891</td>\n",
       "      <td>33237181335705479045463470</td>\n",
       "      <td>1633275840</td>\n",
       "      <td>2023196576240454603016789</td>\n",
       "      <td>41628779626943818285290</td>\n",
       "      <td>956828834234220118769</td>\n",
       "      <td>0.02023357</td>\n",
       "      <td>2589745068564383236370775</td>\n",
       "    </tr>\n",
       "    <tr>\n",
       "      <th>1</th>\n",
       "      <td>0x0000749eddd2bbff28a9ab3f6c78122880e1ab8aca0c...</td>\n",
       "      <td>338348876832886563888</td>\n",
       "      <td>1205221500688728120423</td>\n",
       "      <td>37618327265788233259</td>\n",
       "      <td>223278901171683082991478</td>\n",
       "      <td>2391.118083180004491660642560699955</td>\n",
       "      <td>36688173729686230231359209</td>\n",
       "      <td>1627601050</td>\n",
       "      <td>1776485959734460896512033</td>\n",
       "      <td>76576094609962036269193</td>\n",
       "      <td>651800944610087262963</td>\n",
       "      <td>0.042635</td>\n",
       "      <td>5350538983748984185087368</td>\n",
       "    </tr>\n",
       "    <tr>\n",
       "      <th>2</th>\n",
       "      <td>0x000094bffc67d66b34ef8853693846a532b91c787380...</td>\n",
       "      <td>358482290065244714614</td>\n",
       "      <td>1230121671297688862666</td>\n",
       "      <td>39856815654481118770</td>\n",
       "      <td>256970193012495894583964</td>\n",
       "      <td>3256.658198990007823019577367489561</td>\n",
       "      <td>37159295335905897411347821</td>\n",
       "      <td>1628959994</td>\n",
       "      <td>1858533886504509751788253</td>\n",
       "      <td>85574171127921986106161</td>\n",
       "      <td>911794671004383209663</td>\n",
       "      <td>0.04571288</td>\n",
       "      <td>5727436268724717929078257</td>\n",
       "    </tr>\n",
       "    <tr>\n",
       "      <th>3</th>\n",
       "      <td>0x00022fc9b77b74dad17ac21cf4bbfd00d9f235da4de6...</td>\n",
       "      <td>333206938954635235009</td>\n",
       "      <td>1201435899117830762280</td>\n",
       "      <td>37046632257839944796</td>\n",
       "      <td>214587377041282181182459</td>\n",
       "      <td>2146.920636970002936382015728428015</td>\n",
       "      <td>36559254875651412886583013</td>\n",
       "      <td>1627178698</td>\n",
       "      <td>1777699467738234949177105</td>\n",
       "      <td>75184719488501282928921</td>\n",
       "      <td>606288026157887538210</td>\n",
       "      <td>0.041802</td>\n",
       "      <td>5247403900521130309266411</td>\n",
       "    </tr>\n",
       "    <tr>\n",
       "      <th>4</th>\n",
       "      <td>0x0002f3bb4979ea1647912d45b9d2d00344783a15e136...</td>\n",
       "      <td>272009441399363196333</td>\n",
       "      <td>1166701529445431234634</td>\n",
       "      <td>30242565330058214426</td>\n",
       "      <td>1446165002064832107238194</td>\n",
       "      <td>2253.107581180003646055419156520747</td>\n",
       "      <td>47452933472757910973055518</td>\n",
       "      <td>1624224687</td>\n",
       "      <td>1142269030444963199652934</td>\n",
       "      <td>128807213283349153821361</td>\n",
       "      <td>772875103318247624711</td>\n",
       "      <td>0.11231928</td>\n",
       "      <td>13962346778206328778444414</td>\n",
       "    </tr>\n",
       "  </tbody>\n",
       "</table>\n",
       "</div>"
      ],
      "text/plain": [
       "                                                  id  \\\n",
       "0  0x00002b10f2d75fa350309b3bc4178a01bdee3f065ff0...   \n",
       "1  0x0000749eddd2bbff28a9ab3f6c78122880e1ab8aca0c...   \n",
       "2  0x000094bffc67d66b34ef8853693846a532b91c787380...   \n",
       "3  0x00022fc9b77b74dad17ac21cf4bbfd00d9f235da4de6...   \n",
       "4  0x0002f3bb4979ea1647912d45b9d2d00344783a15e136...   \n",
       "\n",
       "  lifetimeDepositorsInterestEarned lifetimeFlashLoanPremium  \\\n",
       "0            405476969651544509790   1263501751809831950912   \n",
       "1            338348876832886563888   1205221500688728120423   \n",
       "2            358482290065244714614   1230121671297688862666   \n",
       "3            333206938954635235009   1201435899117830762280   \n",
       "4            272009441399363196333   1166701529445431234634   \n",
       "\n",
       "  lifetimeReserveFactorAccrued              liquidityRate  \\\n",
       "0         45082338772694628016    65905542899792816422411   \n",
       "1         37618327265788233259   223278901171683082991478   \n",
       "2         39856815654481118770   256970193012495894583964   \n",
       "3         37046632257839944796   214587377041282181182459   \n",
       "4         30242565330058214426  1446165002064832107238194   \n",
       "\n",
       "                            priceInUsd            stableBorrowRate  \\\n",
       "0  3406.316027380001795144862001768891  33237181335705479045463470   \n",
       "1  2391.118083180004491660642560699955  36688173729686230231359209   \n",
       "2  3256.658198990007823019577367489561  37159295335905897411347821   \n",
       "3  2146.920636970002936382015728428015  36559254875651412886583013   \n",
       "4  2253.107581180003646055419156520747  47452933472757910973055518   \n",
       "\n",
       "    timestamp          totalATokenSupply  totalCurrentVariableDebt  \\\n",
       "0  1633275840  2023196576240454603016789   41628779626943818285290   \n",
       "1  1627601050  1776485959734460896512033   76576094609962036269193   \n",
       "2  1628959994  1858533886504509751788253   85574171127921986106161   \n",
       "3  1627178698  1777699467738234949177105   75184719488501282928921   \n",
       "4  1624224687  1142269030444963199652934  128807213283349153821361   \n",
       "\n",
       "  totalPrincipalStableDebt utilizationRate          variableBorrowRate  \n",
       "0    956828834234220118769      0.02023357   2589745068564383236370775  \n",
       "1    651800944610087262963        0.042635   5350538983748984185087368  \n",
       "2    911794671004383209663      0.04571288   5727436268724717929078257  \n",
       "3    606288026157887538210        0.041802   5247403900521130309266411  \n",
       "4    772875103318247624711      0.11231928  13962346778206328778444414  "
      ]
     },
     "execution_count": 8,
     "metadata": {},
     "output_type": "execute_result"
    }
   ],
   "source": [
    "tblM.head()"
   ]
  },
  {
   "cell_type": "code",
   "execution_count": 8,
   "metadata": {},
   "outputs": [],
   "source": [
    "#Save Data\n",
    "f = open(os.path.join(pathData,'eth_history_aave.pickle'), 'wb')\n",
    "pickle.dump(tblM, f,-1)          \n",
    "f.close() "
   ]
  },
  {
   "cell_type": "markdown",
   "metadata": {},
   "source": [
    "# Serie para Margenes de Intermediacion"
   ]
  },
  {
   "cell_type": "code",
   "execution_count": 9,
   "metadata": {},
   "outputs": [],
   "source": [
    "#Units\n",
    "wei=1.0e+18 #$ETH\n",
    "rey=1.0e+27 #tasas \n",
    "btc=1.0e+5 #$ btc\n",
    "stable=1.0e+6 #$ stable"
   ]
  },
  {
   "cell_type": "code",
   "execution_count": 3,
   "metadata": {},
   "outputs": [],
   "source": [
    "#Load Downloaded Data\n",
    "f = open(os.path.join(pathData,'eth_history_aave.pickle'), 'rb')\n",
    "tblM = pickle.load(f)     \n",
    "f.close() "
   ]
  },
  {
   "cell_type": "code",
   "execution_count": 10,
   "metadata": {},
   "outputs": [],
   "source": [
    "tblM['Date']=pd.to_datetime(tblM['timestamp'], unit='s')"
   ]
  },
  {
   "cell_type": "code",
   "execution_count": 11,
   "metadata": {},
   "outputs": [],
   "source": [
    "#Aggregates\n",
    "priceUSD=tblM['priceInUsd'].astype(float)\n",
    "tsupply=tblM['totalATokenSupply'].astype(float)/wei\n",
    "tdebtCv=tblM['totalCurrentVariableDebt'].astype(float)/wei\n",
    "tdebtPs=tblM['totalPrincipalStableDebt'].astype(float)/wei\n",
    "tborrow=tdebtCv+tdebtPs\n",
    "Opmargin=tblM['lifetimeReserveFactorAccrued'].astype(float)/wei\n",
    "intExpense=tblM['lifetimeDepositorsInterestEarned'].astype(float)/wei\n",
    "intIncomeF=tblM['lifetimeFlashLoanPremium'].astype(float)/wei\n",
    "intIncomeV=Opmargin+intExpense\n",
    "cMkt_agg=pd.DataFrame(data={'tsupply':tsupply,\n",
    "                            'tborrowV':tdebtCv,'tborrowS':tdebtPs,'tborrow':tborrow,\n",
    "                            'intIncome':intIncomeV,'intIncomeFlash':intIncomeF,'intExpense':intExpense,'opMargin':Opmargin,\n",
    "                           'priceUSD':priceUSD})\n",
    "cMkt_agg=cMkt_agg.set_index(tblM['Date'])\n",
    "cMkt_agg=cMkt_agg.sort_index(axis=0)"
   ]
  },
  {
   "cell_type": "code",
   "execution_count": 12,
   "metadata": {},
   "outputs": [
    {
     "data": {
      "text/html": [
       "<div>\n",
       "<style scoped>\n",
       "    .dataframe tbody tr th:only-of-type {\n",
       "        vertical-align: middle;\n",
       "    }\n",
       "\n",
       "    .dataframe tbody tr th {\n",
       "        vertical-align: top;\n",
       "    }\n",
       "\n",
       "    .dataframe thead th {\n",
       "        text-align: right;\n",
       "    }\n",
       "</style>\n",
       "<table border=\"1\" class=\"dataframe\">\n",
       "  <thead>\n",
       "    <tr style=\"text-align: right;\">\n",
       "      <th></th>\n",
       "      <th>tsupply</th>\n",
       "      <th>tborrowV</th>\n",
       "      <th>tborrowS</th>\n",
       "      <th>tborrow</th>\n",
       "      <th>intIncome</th>\n",
       "      <th>intIncomeFlash</th>\n",
       "      <th>intExpense</th>\n",
       "      <th>opMargin</th>\n",
       "      <th>priceUSD</th>\n",
       "    </tr>\n",
       "    <tr>\n",
       "      <th>Date</th>\n",
       "      <th></th>\n",
       "      <th></th>\n",
       "      <th></th>\n",
       "      <th></th>\n",
       "      <th></th>\n",
       "      <th></th>\n",
       "      <th></th>\n",
       "      <th></th>\n",
       "      <th></th>\n",
       "    </tr>\n",
       "  </thead>\n",
       "  <tbody>\n",
       "    <tr>\n",
       "      <th>2021-10-29 11:20:43</th>\n",
       "      <td>2.083753e+06</td>\n",
       "      <td>36383.585565</td>\n",
       "      <td>440.711445</td>\n",
       "      <td>36824.297010</td>\n",
       "      <td>458.031422</td>\n",
       "      <td>1740.523082</td>\n",
       "      <td>412.200419</td>\n",
       "      <td>45.831003</td>\n",
       "      <td>4323.452897</td>\n",
       "    </tr>\n",
       "    <tr>\n",
       "      <th>2021-10-29 16:25:18</th>\n",
       "      <td>1.569014e+06</td>\n",
       "      <td>36191.342961</td>\n",
       "      <td>440.711445</td>\n",
       "      <td>36632.054406</td>\n",
       "      <td>458.098813</td>\n",
       "      <td>1740.523082</td>\n",
       "      <td>412.261067</td>\n",
       "      <td>45.837746</td>\n",
       "      <td>4439.001418</td>\n",
       "    </tr>\n",
       "    <tr>\n",
       "      <th>2021-10-29 20:07:07</th>\n",
       "      <td>1.441649e+06</td>\n",
       "      <td>36097.873875</td>\n",
       "      <td>440.711445</td>\n",
       "      <td>36538.585320</td>\n",
       "      <td>458.151966</td>\n",
       "      <td>1740.641267</td>\n",
       "      <td>412.308902</td>\n",
       "      <td>45.843064</td>\n",
       "      <td>4390.560000</td>\n",
       "    </tr>\n",
       "    <tr>\n",
       "      <th>2021-10-30 23:40:57</th>\n",
       "      <td>1.194606e+06</td>\n",
       "      <td>35608.320434</td>\n",
       "      <td>440.711445</td>\n",
       "      <td>36049.031879</td>\n",
       "      <td>458.560059</td>\n",
       "      <td>1740.683573</td>\n",
       "      <td>412.676162</td>\n",
       "      <td>45.883897</td>\n",
       "      <td>4311.311097</td>\n",
       "    </tr>\n",
       "    <tr>\n",
       "      <th>2021-10-31 01:32:49</th>\n",
       "      <td>1.219754e+06</td>\n",
       "      <td>35708.345549</td>\n",
       "      <td>440.711445</td>\n",
       "      <td>36149.056994</td>\n",
       "      <td>458.594174</td>\n",
       "      <td>1740.683573</td>\n",
       "      <td>412.706863</td>\n",
       "      <td>45.887310</td>\n",
       "      <td>4382.599091</td>\n",
       "    </tr>\n",
       "  </tbody>\n",
       "</table>\n",
       "</div>"
      ],
      "text/plain": [
       "                          tsupply      tborrowV    tborrowS       tborrow  \\\n",
       "Date                                                                        \n",
       "2021-10-29 11:20:43  2.083753e+06  36383.585565  440.711445  36824.297010   \n",
       "2021-10-29 16:25:18  1.569014e+06  36191.342961  440.711445  36632.054406   \n",
       "2021-10-29 20:07:07  1.441649e+06  36097.873875  440.711445  36538.585320   \n",
       "2021-10-30 23:40:57  1.194606e+06  35608.320434  440.711445  36049.031879   \n",
       "2021-10-31 01:32:49  1.219754e+06  35708.345549  440.711445  36149.056994   \n",
       "\n",
       "                      intIncome  intIncomeFlash  intExpense   opMargin  \\\n",
       "Date                                                                     \n",
       "2021-10-29 11:20:43  458.031422     1740.523082  412.200419  45.831003   \n",
       "2021-10-29 16:25:18  458.098813     1740.523082  412.261067  45.837746   \n",
       "2021-10-29 20:07:07  458.151966     1740.641267  412.308902  45.843064   \n",
       "2021-10-30 23:40:57  458.560059     1740.683573  412.676162  45.883897   \n",
       "2021-10-31 01:32:49  458.594174     1740.683573  412.706863  45.887310   \n",
       "\n",
       "                        priceUSD  \n",
       "Date                              \n",
       "2021-10-29 11:20:43  4323.452897  \n",
       "2021-10-29 16:25:18  4439.001418  \n",
       "2021-10-29 20:07:07  4390.560000  \n",
       "2021-10-30 23:40:57  4311.311097  \n",
       "2021-10-31 01:32:49  4382.599091  "
      ]
     },
     "execution_count": 12,
     "metadata": {},
     "output_type": "execute_result"
    }
   ],
   "source": [
    "cMkt_agg.tail()"
   ]
  },
  {
   "cell_type": "code",
   "execution_count": 13,
   "metadata": {},
   "outputs": [],
   "source": [
    "#Resample Daily data\n",
    "daily_agg=cMkt_agg.resample('D').mean().interpolate()"
   ]
  },
  {
   "cell_type": "code",
   "execution_count": 14,
   "metadata": {},
   "outputs": [
    {
     "data": {
      "text/html": [
       "<div>\n",
       "<style scoped>\n",
       "    .dataframe tbody tr th:only-of-type {\n",
       "        vertical-align: middle;\n",
       "    }\n",
       "\n",
       "    .dataframe tbody tr th {\n",
       "        vertical-align: top;\n",
       "    }\n",
       "\n",
       "    .dataframe thead th {\n",
       "        text-align: right;\n",
       "    }\n",
       "</style>\n",
       "<table border=\"1\" class=\"dataframe\">\n",
       "  <thead>\n",
       "    <tr style=\"text-align: right;\">\n",
       "      <th></th>\n",
       "      <th>tsupply</th>\n",
       "      <th>tborrowV</th>\n",
       "      <th>tborrowS</th>\n",
       "      <th>tborrow</th>\n",
       "      <th>intIncome</th>\n",
       "      <th>intIncomeFlash</th>\n",
       "      <th>intExpense</th>\n",
       "      <th>opMargin</th>\n",
       "      <th>priceUSD</th>\n",
       "    </tr>\n",
       "    <tr>\n",
       "      <th>Date</th>\n",
       "      <th></th>\n",
       "      <th></th>\n",
       "      <th></th>\n",
       "      <th></th>\n",
       "      <th></th>\n",
       "      <th></th>\n",
       "      <th></th>\n",
       "      <th></th>\n",
       "      <th></th>\n",
       "    </tr>\n",
       "  </thead>\n",
       "  <tbody>\n",
       "    <tr>\n",
       "      <th>2021-07-21</th>\n",
       "      <td>1.769079e+06</td>\n",
       "      <td>76094.105357</td>\n",
       "      <td>590.498492</td>\n",
       "      <td>76684.603849</td>\n",
       "      <td>366.023220</td>\n",
       "      <td>1199.602593</td>\n",
       "      <td>329.399868</td>\n",
       "      <td>36.623351</td>\n",
       "      <td>1883.552763</td>\n",
       "    </tr>\n",
       "    <tr>\n",
       "      <th>2021-07-22</th>\n",
       "      <td>1.775665e+06</td>\n",
       "      <td>71821.489573</td>\n",
       "      <td>598.169365</td>\n",
       "      <td>72419.658937</td>\n",
       "      <td>367.110548</td>\n",
       "      <td>1200.607144</td>\n",
       "      <td>330.378401</td>\n",
       "      <td>36.732147</td>\n",
       "      <td>2000.886714</td>\n",
       "    </tr>\n",
       "    <tr>\n",
       "      <th>2021-07-23</th>\n",
       "      <td>1.782713e+06</td>\n",
       "      <td>76294.002275</td>\n",
       "      <td>603.643320</td>\n",
       "      <td>76897.645595</td>\n",
       "      <td>368.702150</td>\n",
       "      <td>1201.021111</td>\n",
       "      <td>331.810750</td>\n",
       "      <td>36.891400</td>\n",
       "      <td>2017.994787</td>\n",
       "    </tr>\n",
       "    <tr>\n",
       "      <th>2021-07-24</th>\n",
       "      <td>1.782053e+06</td>\n",
       "      <td>76348.758308</td>\n",
       "      <td>604.172261</td>\n",
       "      <td>76952.930569</td>\n",
       "      <td>369.427645</td>\n",
       "      <td>1201.275712</td>\n",
       "      <td>332.463653</td>\n",
       "      <td>36.963992</td>\n",
       "      <td>2133.925621</td>\n",
       "    </tr>\n",
       "    <tr>\n",
       "      <th>2021-07-25</th>\n",
       "      <td>1.769539e+06</td>\n",
       "      <td>75137.384445</td>\n",
       "      <td>606.252010</td>\n",
       "      <td>75743.636455</td>\n",
       "      <td>370.619143</td>\n",
       "      <td>1201.479925</td>\n",
       "      <td>333.535932</td>\n",
       "      <td>37.083211</td>\n",
       "      <td>2145.190902</td>\n",
       "    </tr>\n",
       "  </tbody>\n",
       "</table>\n",
       "</div>"
      ],
      "text/plain": [
       "                 tsupply      tborrowV    tborrowS       tborrow   intIncome  \\\n",
       "Date                                                                           \n",
       "2021-07-21  1.769079e+06  76094.105357  590.498492  76684.603849  366.023220   \n",
       "2021-07-22  1.775665e+06  71821.489573  598.169365  72419.658937  367.110548   \n",
       "2021-07-23  1.782713e+06  76294.002275  603.643320  76897.645595  368.702150   \n",
       "2021-07-24  1.782053e+06  76348.758308  604.172261  76952.930569  369.427645   \n",
       "2021-07-25  1.769539e+06  75137.384445  606.252010  75743.636455  370.619143   \n",
       "\n",
       "            intIncomeFlash  intExpense   opMargin     priceUSD  \n",
       "Date                                                            \n",
       "2021-07-21     1199.602593  329.399868  36.623351  1883.552763  \n",
       "2021-07-22     1200.607144  330.378401  36.732147  2000.886714  \n",
       "2021-07-23     1201.021111  331.810750  36.891400  2017.994787  \n",
       "2021-07-24     1201.275712  332.463653  36.963992  2133.925621  \n",
       "2021-07-25     1201.479925  333.535932  37.083211  2145.190902  "
      ]
     },
     "execution_count": 14,
     "metadata": {},
     "output_type": "execute_result"
    }
   ],
   "source": [
    "daily_agg.tail()"
   ]
  },
  {
   "cell_type": "code",
   "execution_count": 15,
   "metadata": {},
   "outputs": [],
   "source": [
    "ts_usd=daily_agg.tsupply*daily_agg.priceUSD/1e6\n",
    "tb_usd=daily_agg.tborrow*daily_agg.priceUSD/1e6"
   ]
  },
  {
   "cell_type": "code",
   "execution_count": 16,
   "metadata": {},
   "outputs": [
    {
     "data": {
      "image/png": "[encoded data removed]",
      "text/plain": [
       "<Figure size 432x288 with 2 Axes>"
      ]
     },
     "metadata": {
      "needs_background": "light"
     },
     "output_type": "display_data"
    }
   ],
   "source": [
    "fig,ax1=plt.subplots()\n",
    "\n",
    "# ax1.set_title(\"DAI Supply and Borrows\")\n",
    "ax1.set_xlabel('Date')\n",
    "ax1.set_ylabel(\"Supply (USD Millions)\")\n",
    "ax1.plot(ts_usd.index,ts_usd,color=\"b\",label=\"Supply\")\n",
    "ax1.legend(loc=\"best\")\n",
    "ax2 = ax1.twinx()  \n",
    "\n",
    "ax2.set_ylabel('Borrows (USD Millions)')  \n",
    "ax2.plot(tb_usd.index,tb_usd,color=\"r\",label=\"Borrows\")\n",
    "ax2.legend(loc='lower right')\n",
    "ax1.tick_params(axis='x', rotation=45)\n",
    "\n",
    "fig.tight_layout() \n",
    "fig.savefig('eth_supply_borrows.png')  \n",
    "plt.show()"
   ]
  },
  {
   "cell_type": "code",
   "execution_count": 28,
   "metadata": {},
   "outputs": [
    {
     "data": {
      "text/plain": [
       "Date\n",
       "2021-07-21    3332.153117\n",
       "2021-07-22    3552.903517\n",
       "2021-07-23    3597.504643\n",
       "2021-07-24    3802.768046\n",
       "2021-07-25    3795.999902\n",
       "Freq: D, dtype: float64"
      ]
     },
     "execution_count": 28,
     "metadata": {},
     "output_type": "execute_result"
    }
   ],
   "source": [
    "ts_usd.tail()"
   ]
  },
  {
   "cell_type": "code",
   "execution_count": 17,
   "metadata": {},
   "outputs": [],
   "source": [
    "brate=tblM['variableBorrowRate'].astype(float)/rey\n",
    "sbrate=tblM['stableBorrowRate'].astype(float)/rey\n",
    "srate=tblM['liquidityRate'].astype(float)/rey\n",
    "utilization=tblM['utilizationRate'].astype(float)\n",
    "mkt_rts=pd.DataFrame(data={'var_borrow':brate,'sta_borrow':sbrate,\n",
    "                            'sup.r':srate,'utilization':utilization})\n",
    "mkt_rts=mkt_rts.set_index(tblM['Date'])\n",
    "mkt_rts=mkt_rts.sort_index(axis=0)"
   ]
  },
  {
   "cell_type": "code",
   "execution_count": 18,
   "metadata": {},
   "outputs": [],
   "source": [
    "daily_rates=mkt_rts.resample('D').mean().interpolate()"
   ]
  },
  {
   "cell_type": "code",
   "execution_count": 19,
   "metadata": {},
   "outputs": [
    {
     "data": {
      "text/html": [
       "<div>\n",
       "<style scoped>\n",
       "    .dataframe tbody tr th:only-of-type {\n",
       "        vertical-align: middle;\n",
       "    }\n",
       "\n",
       "    .dataframe tbody tr th {\n",
       "        vertical-align: top;\n",
       "    }\n",
       "\n",
       "    .dataframe thead th {\n",
       "        text-align: right;\n",
       "    }\n",
       "</style>\n",
       "<table border=\"1\" class=\"dataframe\">\n",
       "  <thead>\n",
       "    <tr style=\"text-align: right;\">\n",
       "      <th></th>\n",
       "      <th>var_borrow</th>\n",
       "      <th>sta_borrow</th>\n",
       "      <th>sup.r</th>\n",
       "      <th>utilization</th>\n",
       "    </tr>\n",
       "    <tr>\n",
       "      <th>Date</th>\n",
       "      <th></th>\n",
       "      <th></th>\n",
       "      <th></th>\n",
       "      <th></th>\n",
       "    </tr>\n",
       "  </thead>\n",
       "  <tbody>\n",
       "    <tr>\n",
       "      <th>2020-12-03</th>\n",
       "      <td>0.002219</td>\n",
       "      <td>0.032774</td>\n",
       "      <td>0.000036</td>\n",
       "      <td>0.018028</td>\n",
       "    </tr>\n",
       "    <tr>\n",
       "      <th>2020-12-04</th>\n",
       "      <td>0.002221</td>\n",
       "      <td>0.032776</td>\n",
       "      <td>0.000043</td>\n",
       "      <td>0.018284</td>\n",
       "    </tr>\n",
       "    <tr>\n",
       "      <th>2020-12-05</th>\n",
       "      <td>0.002223</td>\n",
       "      <td>0.032779</td>\n",
       "      <td>0.000051</td>\n",
       "      <td>0.018540</td>\n",
       "    </tr>\n",
       "    <tr>\n",
       "      <th>2020-12-06</th>\n",
       "      <td>0.004038</td>\n",
       "      <td>0.035047</td>\n",
       "      <td>0.000151</td>\n",
       "      <td>0.032805</td>\n",
       "    </tr>\n",
       "    <tr>\n",
       "      <th>2020-12-07</th>\n",
       "      <td>0.003896</td>\n",
       "      <td>0.034871</td>\n",
       "      <td>0.000180</td>\n",
       "      <td>0.031655</td>\n",
       "    </tr>\n",
       "    <tr>\n",
       "      <th>...</th>\n",
       "      <td>...</td>\n",
       "      <td>...</td>\n",
       "      <td>...</td>\n",
       "      <td>...</td>\n",
       "    </tr>\n",
       "    <tr>\n",
       "      <th>2021-07-21</th>\n",
       "      <td>0.005335</td>\n",
       "      <td>0.036669</td>\n",
       "      <td>0.000221</td>\n",
       "      <td>0.042515</td>\n",
       "    </tr>\n",
       "    <tr>\n",
       "      <th>2021-07-22</th>\n",
       "      <td>0.005020</td>\n",
       "      <td>0.036275</td>\n",
       "      <td>0.000197</td>\n",
       "      <td>0.039951</td>\n",
       "    </tr>\n",
       "    <tr>\n",
       "      <th>2021-07-23</th>\n",
       "      <td>0.005309</td>\n",
       "      <td>0.036636</td>\n",
       "      <td>0.000219</td>\n",
       "      <td>0.042307</td>\n",
       "    </tr>\n",
       "    <tr>\n",
       "      <th>2021-07-24</th>\n",
       "      <td>0.005315</td>\n",
       "      <td>0.036643</td>\n",
       "      <td>0.000220</td>\n",
       "      <td>0.042352</td>\n",
       "    </tr>\n",
       "    <tr>\n",
       "      <th>2021-07-25</th>\n",
       "      <td>0.005268</td>\n",
       "      <td>0.036585</td>\n",
       "      <td>0.000216</td>\n",
       "      <td>0.041969</td>\n",
       "    </tr>\n",
       "  </tbody>\n",
       "</table>\n",
       "<p>235 rows × 4 columns</p>\n",
       "</div>"
      ],
      "text/plain": [
       "            var_borrow  sta_borrow     sup.r  utilization\n",
       "Date                                                     \n",
       "2020-12-03    0.002219    0.032774  0.000036     0.018028\n",
       "2020-12-04    0.002221    0.032776  0.000043     0.018284\n",
       "2020-12-05    0.002223    0.032779  0.000051     0.018540\n",
       "2020-12-06    0.004038    0.035047  0.000151     0.032805\n",
       "2020-12-07    0.003896    0.034871  0.000180     0.031655\n",
       "...                ...         ...       ...          ...\n",
       "2021-07-21    0.005335    0.036669  0.000221     0.042515\n",
       "2021-07-22    0.005020    0.036275  0.000197     0.039951\n",
       "2021-07-23    0.005309    0.036636  0.000219     0.042307\n",
       "2021-07-24    0.005315    0.036643  0.000220     0.042352\n",
       "2021-07-25    0.005268    0.036585  0.000216     0.041969\n",
       "\n",
       "[235 rows x 4 columns]"
      ]
     },
     "execution_count": 19,
     "metadata": {},
     "output_type": "execute_result"
    }
   ],
   "source": [
    "daily_rates"
   ]
  },
  {
   "cell_type": "code",
   "execution_count": 20,
   "metadata": {},
   "outputs": [
    {
     "data": {
      "image/png": "[encoded data removed]",
      "text/plain": [
       "<Figure size 432x288 with 2 Axes>"
      ]
     },
     "metadata": {
      "needs_background": "light"
     },
     "output_type": "display_data"
    }
   ],
   "source": [
    "fig,ax1=plt.subplots()\n",
    "\n",
    "ax1.set_xlabel('Date')\n",
    "ax1.set_ylabel(\"Borrow & utilization rate\")\n",
    "# ax1.plot(daily_rates.index,daily_rates[\"var_borrow\"],color=\"b\",label=\"V. borrow rate\",ls=\":\")\n",
    "ax1.plot(daily_rates.index,daily_rates[\"sta_borrow\"], color=\"r\",label=\"S. borrow rate\",ls=\"--\")\n",
    "ax1.plot(daily_rates.index,daily_rates[\"utilization\"], color=\"darkblue\",label=\"Utilization rate\",ls=\"--\")\n",
    "ax1.legend(loc=\"best\")\n",
    "ax2 = ax1.twinx()  \n",
    "\n",
    "ax2.set_ylabel('Supply rate')  \n",
    "ax2.plot(daily_rates.index,daily_rates[\"sup.r\"],color=\"limegreen\",label=\"Supply rate\")\n",
    "ax2.legend(loc='upper center')\n",
    "ax1.tick_params(axis='x', rotation=45)\n",
    "\n",
    "fig.tight_layout() \n",
    "fig.savefig('eth_rates.png') \n",
    "plt.show()"
   ]
  },
  {
   "cell_type": "code",
   "execution_count": 26,
   "metadata": {},
   "outputs": [
    {
     "data": {
      "text/plain": [
       "Date\n",
       "2021-07-21    0.005335\n",
       "2021-07-22    0.005020\n",
       "2021-07-23    0.005309\n",
       "2021-07-24    0.005315\n",
       "2021-07-25    0.005268\n",
       "Freq: D, Name: var_borrow, dtype: float64"
      ]
     },
     "execution_count": 26,
     "metadata": {},
     "output_type": "execute_result"
    }
   ],
   "source": [
    "daily_rates['var_borrow'].tail()"
   ]
  },
  {
   "cell_type": "code",
   "execution_count": null,
   "metadata": {},
   "outputs": [],
   "source": [
    "plt.plot(daily_rts.index, daily_rts.utilization)\n",
    "plt.xlabel('Time')\n",
    "plt.ylabel('Utilization')\n",
    "plt.show()"
   ]
  },
  {
   "cell_type": "code",
   "execution_count": null,
   "metadata": {},
   "outputs": [],
   "source": [
    "plt.plot(BR)\n",
    "plt.xlabel('Time')\n",
    "plt.ylabel('Borrow Rate')\n",
    "plt.show()"
   ]
  },
  {
   "cell_type": "code",
   "execution_count": null,
   "metadata": {},
   "outputs": [],
   "source": [
    "plt.plot(SR)\n",
    "plt.xlabel('Time')\n",
    "plt.ylabel('Supply Rate')\n",
    "plt.show()"
   ]
  },
  {
   "cell_type": "code",
   "execution_count": null,
   "metadata": {},
   "outputs": [],
   "source": [
    "Uta[Uta.index<'2020-07-15'].describe()"
   ]
  },
  {
   "cell_type": "code",
   "execution_count": null,
   "metadata": {},
   "outputs": [],
   "source": [
    "Uta[Uta.index>'2020-07-15'].describe()"
   ]
  },
  {
   "cell_type": "code",
   "execution_count": null,
   "metadata": {},
   "outputs": [],
   "source": [
    "plt.plot(Uta[Uta.index>'2020-07-15'])\n",
    "plt.xlabel('Time')\n",
    "plt.ylabel('Utilization')\n",
    "plt.show()"
   ]
  },
  {
   "cell_type": "code",
   "execution_count": null,
   "metadata": {},
   "outputs": [],
   "source": [
    "plt.plot(TB)\n",
    "plt.xlabel('Time')\n",
    "plt.ylabel('Total Borrow in Wei')\n",
    "plt.show()"
   ]
  },
  {
   "cell_type": "code",
   "execution_count": null,
   "metadata": {},
   "outputs": [],
   "source": [
    "plt.plot(TS)\n",
    "plt.xlabel('Time')\n",
    "plt.ylabel('Total Supply in Wei')\n",
    "plt.show()"
   ]
  },
  {
   "cell_type": "code",
   "execution_count": null,
   "metadata": {},
   "outputs": [],
   "source": [
    "TS.head()"
   ]
  },
  {
   "cell_type": "code",
   "execution_count": null,
   "metadata": {},
   "outputs": [],
   "source": [
    "plt.plot(1/Xrate)\n",
    "plt.xlabel('Time')\n",
    "plt.ylabel('Exchange rate: 1ETH to #cETH')\n",
    "plt.show()"
   ]
  },
  {
   "cell_type": "code",
   "execution_count": null,
   "metadata": {},
   "outputs": [],
   "source": [
    "plt.plot(PUSD)\n",
    "plt.xlabel('Time')\n",
    "plt.ylabel('Price of ETH in USD')\n",
    "plt.show()"
   ]
  },
  {
   "cell_type": "code",
   "execution_count": null,
   "metadata": {},
   "outputs": [],
   "source": [
    "PUSD[PUSD.index>'2020-03-15'].head()"
   ]
  },
  {
   "cell_type": "code",
   "execution_count": null,
   "metadata": {},
   "outputs": [],
   "source": []
  }
 ],
 "metadata": {
  "kernelspec": {
   "display_name": "Python 3",
   "language": "python",
   "name": "python3"
  },
  "language_info": {
   "codemirror_mode": {
    "name": "ipython",
    "version": 3
   },
   "file_extension": ".py",
   "mimetype": "text/x-python",
   "name": "python",
   "nbconvert_exporter": "python",
   "pygments_lexer": "ipython3",
   "version": "3.7.9"
  }
 },
 "nbformat": 4,
 "nbformat_minor": 2
}
