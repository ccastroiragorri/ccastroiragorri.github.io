{
 "cells": [
  {
   "cell_type": "markdown",
   "metadata": {},
   "source": [
    "# TESTING ONE EVENT: Microsoft MA announcement Yahoo_data"
   ]
  },
  {
   "cell_type": "markdown",
   "metadata": {},
   "source": [
    "## 0. Libraries, functions and model specification"
   ]
  },
  {
   "cell_type": "code",
   "execution_count": 2,
   "metadata": {},
   "outputs": [],
   "source": [
    "#Libraries\n",
    "import pandas as pd\n",
    "import numpy as np\n",
    "import pickle\n",
    "from pandas.tseries.offsets import *   \n",
    "from itertools import chain\n",
    "import statsmodels.api as sm\n",
    "from sklearn import linear_model\n",
    "from sklearn.metrics import mean_squared_error\n",
    "from scipy import stats"
   ]
  },
  {
   "cell_type": "code",
   "execution_count": 3,
   "metadata": {
    "collapsed": true
   },
   "outputs": [],
   "source": [
    "# %load buildD.py\n",
    "def buildD(pair):\n",
    "    #1.window parametrization\n",
    "    #estimation window (T1:train-150 and T2:test-50: 200); T3:gap-25; event-21(T4:-10:0:10T5)\n",
    "    #[T1,T2): train; [T2,T3):test; [T3,T4):gap; [T4,T5]:event\n",
    "    eventw=10 #size of the event window\n",
    "    ztrain=150\n",
    "    ztest=50\n",
    "    zgap=25\n",
    "    zevent=2*eventw+1\n",
    "    # 2. get stock involved in event and mkt data (traditional)\n",
    "    assethis=st16f.loc[(slice(None),pair['permno'])]\n",
    "    evindex=assethis.index.get_loc((pair['date']))\n",
    "    #using event index get dates for event study windows\n",
    "    T1=assethis.index[evindex-(ztrain+ztest+zgap+eventw)]\n",
    "    T2=assethis.index[evindex-(ztest+zgap+eventw)]\n",
    "    T3=assethis.index[evindex-(zgap+eventw)]\n",
    "    T4=assethis.index[evindex-(eventw)]\n",
    "    T5=assethis.index[evindex+(eventw)]\n",
    "    dinvl=(T1,T2,T3,T4,pair['date'],T5)\n",
    "    #sample data for stock of interest and market for window\n",
    "    assetsmp=assethis.loc[(slice(dinvl[0],dinvl[len(dinvl)-1]))]\n",
    "    sprtsmp=spmktix.loc[(slice(dinvl[0],dinvl[len(dinvl)-1]))]\n",
    "    assetsmp=pd.DataFrame(np.matrix((assetsmp.values,sprtsmp.values)).reshape(2,len(assetsmp)).transpose(),\n",
    "                      index=assetsmp.index,columns=(pair['permno'],'sprtrn'))\n",
    "    #clean data\n",
    "    del assethis \n",
    "    del sprtsmp\n",
    "    #3.get control group for stocks using sample selection restrictions (synthetic matching)\n",
    "    #Select permno with event in estimation window\n",
    "    permnoex=EmadteOKS.loc[(slice(dinvl[0],dinvl[2]))].unique()\n",
    "    #append permno of the asset of interest\n",
    "    permnoex=np.append(permnoex,pair['permno'])\n",
    "    permnoex.sort(axis=-1)\n",
    "    permnoex=pd.Series(permnoex)  #check date event in tail\n",
    "    #Select data for all assets using the relevent dates for event\n",
    "    # Estimation + Event window absolute slicing\n",
    "    allafw=st16f.loc[(slice(dinvl[0],dinvl[len(dinvl)-1]),slice(None))]\n",
    "    # Select only assets that are not involved in event during estimation window\n",
    "    #Get permno for all assets availables in the data\n",
    "    permnoad=allafw.index.droplevel(level='date').unique()\n",
    "    permnoad=pd.Series(permnoad)\n",
    "    #select permno that are not affected by event\n",
    "    permnoacf=permnoad[~permnoad.isin(permnoex)]\n",
    "    #Keep only assets for the control group that are not involed in similar events\n",
    "    allafwn=allafw.reset_index(level=['date'])\n",
    "    allafwn.columns=['date','RETX']\n",
    "    #create logistic to select permno's not affected by event\n",
    "    conafw=allafwn.iloc[allafwn.index.isin(permnoacf)]\n",
    "    #Change structure of the data using pivoting\n",
    "    conafw.reset_index(inplace=True)\n",
    "    #pivot the table\n",
    "    conafwp=conafw.pivot(index='date',columns='PERMNO',values='RETX')\n",
    "    #Remove assets with NaN values\n",
    "    conafwp=conafwp.loc[:,conafwp.notnull().all()]\n",
    "    #4. merge data\n",
    "    #concatenate columns to create estimation window \n",
    "    Fwdow=pd.concat([assetsmp,conafwp],axis=1)\n",
    "    outdt=(dinvl,Fwdow)\n",
    "    return outdt"
   ]
  },
  {
   "cell_type": "code",
   "execution_count": 4,
   "metadata": {
    "collapsed": true
   },
   "outputs": [],
   "source": [
    "# %load rsynth.py\n",
    "\n",
    "def rsynth(Bdata):\n",
    "    #Train\n",
    "    train=Bdata[1].loc[:Bdata[0][1],:]\n",
    "    r1T_train=train.iloc[:,0]\n",
    "    rmk_train=train.iloc[:,1]\n",
    "    rC_train=train.iloc[:,2:]\n",
    "    #Train\n",
    "    test=Bdata[1].loc[Bdata[0][1]:Bdata[0][2],:]\n",
    "    r1T_test=test.iloc[:,0]\n",
    "    rmk_test=test.iloc[:,1]\n",
    "    rC_test=test.iloc[:,2:]\n",
    "    #Train\n",
    "    event=Bdata[1].loc[Bdata[0][3]:,:]\n",
    "    r1T_event=event.iloc[:,0]\n",
    "    rmk_event=event.iloc[:,1]\n",
    "    rC_event=event.iloc[:,2:]\n",
    "    #2.ESTIMATORS\n",
    "    #MARKET\n",
    "    reg.fit(rmk_train.values.reshape(-1,1),r1T_train)\n",
    "    #out-of-sample\n",
    "    mkt_y_pred_os=reg.predict(rmk_test.values.reshape(-1,1)) #Potential outcome mkt model\n",
    "    mkt_mse_test=mean_squared_error(r1T_test, mkt_y_pred_os)\n",
    "    #event window\n",
    "    mkt_r1NT=reg.predict(rmk_event.values.reshape(-1,1)) #Potential outcome mkt model\n",
    "    #LASSO\n",
    "    slreg.fit(rC_train,r1T_train)\n",
    "    #out-of-sample\n",
    "    lsw=slreg.coef_\n",
    "    lsw=lsw/lsw.sum() #only if weights are positive\n",
    "    lXX=np.matrix(rC_test)\n",
    "    lsyn_y_pred_os=np.dot(lXX,lsw)\n",
    "    lsyn_mse_test=mean_squared_error(r1T_test, lsyn_y_pred_os.transpose())\n",
    "    #event window\n",
    "    lXX_e=np.matrix(rC_event)\n",
    "    lsyn_r1NT=np.dot(lXX_e,lsw)\n",
    "    #ELASTIC NET\n",
    "    enreg.fit(rC_train,r1T_train)\n",
    "    #out-of-sample\n",
    "    enw=enreg.coef_\n",
    "    enw=enw/enw.sum() #only if weights are positive\n",
    "    esyn_y_pred_os=np.dot(lXX,enw)\n",
    "    esyn_mse_test=mean_squared_error(r1T_test, esyn_y_pred_os.transpose())\n",
    "    #event window\n",
    "    esyn_r1NT=np.dot(lXX_e,enw)\n",
    "    #NAIVE\n",
    "    #out-of-sample\n",
    "    nsyn_y_pred_os=lXX.mean(1)\n",
    "    nsyn_mse_test=mean_squared_error(r1T_test, nsyn_y_pred_os)\n",
    "    #event window\n",
    "    nsyn_r1NT=lXX_e.mean(1)\n",
    "    #3.RESULTS\n",
    "    #Treated return firm 1 and potential outcomes (non-treated)\n",
    "    eventM=pd.DataFrame(np.matrix((r1T_event.values.tolist(),mkt_r1NT.tolist(),lsyn_r1NT.tolist()[0],\n",
    "                   esyn_r1NT.tolist()[0],nsyn_r1NT.transpose().tolist()[0])).reshape(5,len(r1T_event)).transpose(),\n",
    "                   index=r1T_event.index) #careful with 21, change\n",
    "    eventM.columns=[\"RT\",\"RNT_Market\",\"RNT_Syn.Lasso\",\"RNT_Syn.ENet\",\"RNT_Syn.naive\"]\n",
    "    #treatment effects=abnormal returns\n",
    "    AR=pd.DataFrame(np.repeat(eventM.values[:,0],4).reshape((len(eventM),4))-eventM.values[:,1:],index=r1T_event.index)\n",
    "    AR.columns=[\"AR_Market\",\"AR_Syn.Lasso\",\"AR_Syn.ENet\",\"AR_Syn.naive\"]\n",
    "    #individual test parametric(t.test) and non-parametric(wilcoxon)\n",
    "    mkt_ttest=stats.ttest_ind(eventM.values[:,0],eventM.values[:,1], equal_var = False)\n",
    "    mkt_wtest=stats.wilcoxon(eventM.values[:,0],eventM.values[:,1], zero_method='wilcox')\n",
    "    lsyn_ttest=stats.ttest_ind(eventM.values[:,0],eventM.values[:,2], equal_var = False)\n",
    "    lsyn_wtest=stats.wilcoxon(eventM.values[:,0],eventM.values[:,2], zero_method='wilcox')\n",
    "    esyn_ttest=stats.ttest_ind(eventM.values[:,0],eventM.values[:,3], equal_var = False)\n",
    "    esyn_wtest=stats.wilcoxon(eventM.values[:,0],eventM.values[:,3], zero_method='wilcox')\n",
    "    nsyn_ttest=stats.ttest_ind(eventM.values[:,0],eventM.values[:,4], equal_var = False)\n",
    "    nsyn_wtest=stats.wilcoxon(eventM.values[:,0],eventM.values[:,4], zero_method='wilcox')\n",
    "    ttestp=[mkt_ttest.pvalue,lsyn_ttest.pvalue,esyn_ttest.pvalue,nsyn_ttest.pvalue]\n",
    "    wtestp=[mkt_wtest.pvalue,lsyn_wtest.pvalue,esyn_wtest.pvalue,nsyn_wtest.pvalue]\n",
    "    #Mean square error table testing window\n",
    "    mseM=[mkt_mse_test,lsyn_mse_test,esyn_mse_test,nsyn_mse_test]\n",
    "    model=[\"Market\",\"Syn.Lasso\",\"Syn.ENet\",\"Syn.naive\"]\n",
    "    testM=pd.DataFrame(np.matrix((mseM,AR.sum(0).tolist(),ttestp,wtestp)).reshape(4,4).transpose(),index=model)\n",
    "    testM.columns=['MSE_test.w','CAR','CAR_t.test','CAR_wilcoxon']\n",
    "    out=(testM,eventM,AR)\n",
    "    return out"
   ]
  },
  {
   "cell_type": "code",
   "execution_count": 5,
   "metadata": {
    "collapsed": true
   },
   "outputs": [],
   "source": [
    "#estimators sklearn\n",
    "reg = linear_model.LinearRegression() #OLS\n",
    "slreg = linear_model.Lasso(alpha=0.0001,fit_intercept=False, max_iter=1000,positive=True) # LASSO\n",
    "enreg= linear_model.ElasticNet(alpha=0.0001, l1_ratio=0.5, fit_intercept=False,positive=True) #Enet"
   ]
  },
  {
   "cell_type": "markdown",
   "metadata": {},
   "source": [
    "## 1. Read Data"
   ]
  },
  {
   "cell_type": "code",
   "execution_count": 6,
   "metadata": {
    "collapsed": true
   },
   "outputs": [],
   "source": [
    "#load global data\n",
    "#event list has the pair date and firm id (adquierer and target)\n",
    "filepath=\"acqux.csv\"\n",
    "Emadte=pd.read_csv(filepath,sep=\",\",parse_dates=[0],index_col=\"date\")\n",
    "#asset return time series (CRISP history)\n",
    "with open('CRSP0016s.pickle', 'rb') as file:\n",
    "    st16 = pickle.load(file)"
   ]
  },
  {
   "cell_type": "code",
   "execution_count": 7,
   "metadata": {
    "collapsed": true
   },
   "outputs": [],
   "source": [
    "st16.replace('NaN', np.NaN, inplace=True)"
   ]
  },
  {
   "cell_type": "code",
   "execution_count": 8,
   "metadata": {},
   "outputs": [
    {
     "name": "stdout",
     "output_type": "stream",
     "text": [
      "<class 'pandas.core.frame.DataFrame'>\n",
      "DatetimeIndex: 5201 entries, 2006-01-02 to 2011-12-30\n",
      "Data columns (total 1 columns):\n",
      "permno    5201 non-null int64\n",
      "dtypes: int64(1)\n",
      "memory usage: 81.3 KB\n"
     ]
    }
   ],
   "source": [
    "#inspect data event-list\n",
    "#Emadte.info()\n",
    "#Shorter sample  \n",
    "EmadteS=Emadte.loc[slice('2006','2011'),:]\n",
    "EmadteS.info()"
   ]
  },
  {
   "cell_type": "code",
   "execution_count": 9,
   "metadata": {},
   "outputs": [
    {
     "name": "stdout",
     "output_type": "stream",
     "text": [
      "<class 'pandas.core.frame.DataFrame'>\n",
      "MultiIndex: 15506755 entries, (10001, 2004-01-02 00:00:00) to (93436, 2012-12-31 00:00:00)\n",
      "Data columns (total 2 columns):\n",
      "RETX      float64\n",
      "sprtrn    float64\n",
      "dtypes: float64(2)\n",
      "memory usage: 295.9 MB\n"
     ]
    }
   ],
   "source": [
    "#inspect data asset returns\n",
    "#st16.info()\n",
    "#Shorter sample \n",
    "st16=st16.loc[(slice(None),slice('2004','2012')),:]\n",
    "st16.info()"
   ]
  },
  {
   "cell_type": "markdown",
   "metadata": {},
   "source": [
    "## 2. Eliminate Missing Variables from universe of returns"
   ]
  },
  {
   "cell_type": "code",
   "execution_count": 10,
   "metadata": {
    "collapsed": true
   },
   "outputs": [],
   "source": [
    "#extract index\n",
    "spmktix=st16.loc[(10001,slice('2004','2012')),'sprtrn']\n",
    "spmktix=spmktix.values"
   ]
  },
  {
   "cell_type": "code",
   "execution_count": 11,
   "metadata": {},
   "outputs": [
    {
     "name": "stdout",
     "output_type": "stream",
     "text": [
      "<class 'pandas.core.frame.DataFrame'>\n",
      "DatetimeIndex: 2265 entries, 2004-01-02 to 2012-12-31\n",
      "Columns: 11055 entries, 10001 to 93436\n",
      "dtypes: float64(11055)\n",
      "memory usage: 191.1 MB\n"
     ]
    }
   ],
   "source": [
    "#drop missing get balanced panel\n",
    "st16.drop('sprtrn',axis=1)\n",
    "st16.reset_index(inplace=True)\n",
    "#pivot the table\n",
    "st16=st16.pivot(index='date',columns='PERMNO',values='RETX')\n",
    "st16.info()"
   ]
  },
  {
   "cell_type": "code",
   "execution_count": 12,
   "metadata": {},
   "outputs": [
    {
     "name": "stdout",
     "output_type": "stream",
     "text": [
      "<class 'pandas.core.frame.DataFrame'>\n",
      "DatetimeIndex: 2265 entries, 2004-01-02 to 2012-12-31\n",
      "Columns: 3352 entries, 10001 to 92874\n",
      "dtypes: float64(3352)\n",
      "memory usage: 57.9 MB\n"
     ]
    }
   ],
   "source": [
    "st16.dropna(axis=1, how='any',inplace=True)\n",
    "st16.info()"
   ]
  },
  {
   "cell_type": "code",
   "execution_count": 13,
   "metadata": {},
   "outputs": [
    {
     "data": {
      "text/plain": [
       "date\n",
       "2004-01-02   -0.003094\n",
       "2004-01-05    0.012395\n",
       "2004-01-06    0.001292\n",
       "2004-01-07    0.002367\n",
       "2004-01-08    0.004963\n",
       "Name: sprtrn, dtype: float64"
      ]
     },
     "execution_count": 13,
     "metadata": {},
     "output_type": "execute_result"
    }
   ],
   "source": [
    "spmktix=pd.Series(spmktix,st16.index)\n",
    "spmktix.name='sprtrn'\n",
    "spmktix.head()"
   ]
  },
  {
   "cell_type": "code",
   "execution_count": 14,
   "metadata": {},
   "outputs": [
    {
     "data": {
      "text/plain": [
       "7592280"
      ]
     },
     "execution_count": 14,
     "metadata": {},
     "output_type": "execute_result"
    }
   ],
   "source": [
    "#get the return data without missing variables\n",
    "st16f=st16.stack()\n",
    "len(st16f)"
   ]
  },
  {
   "cell_type": "markdown",
   "metadata": {},
   "source": [
    "## 2. select event pairs (date and asset) with information in the return dataset"
   ]
  },
  {
   "cell_type": "code",
   "execution_count": 15,
   "metadata": {},
   "outputs": [
    {
     "name": "stdout",
     "output_type": "stream",
     "text": [
      "<class 'pandas.core.frame.DataFrame'>\n",
      "DatetimeIndex: 5158 entries, 2006-01-03 to 2011-12-30\n",
      "Data columns (total 1 columns):\n",
      "permno    5158 non-null int64\n",
      "dtypes: int64(1)\n",
      "memory usage: 80.6 KB\n"
     ]
    }
   ],
   "source": [
    "#Check that the dates in event list are in the return information\n",
    "#full index of event dataset\n",
    "eidxf=EmadteS.index\n",
    "#unique\n",
    "eidx=eidxf.unique()\n",
    "#unique index of returndata set\n",
    "ridx=st16f.index.get_level_values(level='date').unique()\n",
    "#keep only dates that are in both event and return dataset\n",
    "okidx=eidx[eidx.isin(ridx)]\n",
    "#get the event list with dates that exist in the return dateset\n",
    "EmadteOK=EmadteS[eidxf.isin(okidx)]\n",
    "EmadteOK.info()"
   ]
  },
  {
   "cell_type": "code",
   "execution_count": 16,
   "metadata": {},
   "outputs": [
    {
     "name": "stdout",
     "output_type": "stream",
     "text": [
      "<class 'pandas.core.frame.DataFrame'>\n",
      "DatetimeIndex: 2967 entries, 2006-01-04 to 2011-12-30\n",
      "Data columns (total 1 columns):\n",
      "permno    2967 non-null int64\n",
      "dtypes: int64(1)\n",
      "memory usage: 46.4 KB\n"
     ]
    }
   ],
   "source": [
    "#Check that the assets in event list are in the return information\n",
    "EmadteOK=EmadteOK[EmadteOK.permno.isin(st16f.index.get_level_values(level='PERMNO').unique())]\n",
    "EmadteOK.info()"
   ]
  },
  {
   "cell_type": "code",
   "execution_count": 17,
   "metadata": {},
   "outputs": [
    {
     "data": {
      "text/html": [
       "<div>\n",
       "<style>\n",
       "    .dataframe thead tr:only-child th {\n",
       "        text-align: right;\n",
       "    }\n",
       "\n",
       "    .dataframe thead th {\n",
       "        text-align: left;\n",
       "    }\n",
       "\n",
       "    .dataframe tbody tr th {\n",
       "        vertical-align: top;\n",
       "    }\n",
       "</style>\n",
       "<table border=\"1\" class=\"dataframe\">\n",
       "  <thead>\n",
       "    <tr style=\"text-align: right;\">\n",
       "      <th></th>\n",
       "      <th>permno</th>\n",
       "    </tr>\n",
       "    <tr>\n",
       "      <th>date</th>\n",
       "      <th></th>\n",
       "    </tr>\n",
       "  </thead>\n",
       "  <tbody>\n",
       "    <tr>\n",
       "      <th>2006-01-04</th>\n",
       "      <td>86013</td>\n",
       "    </tr>\n",
       "    <tr>\n",
       "      <th>2006-01-04</th>\n",
       "      <td>86717</td>\n",
       "    </tr>\n",
       "    <tr>\n",
       "      <th>2006-01-04</th>\n",
       "      <td>21742</td>\n",
       "    </tr>\n",
       "    <tr>\n",
       "      <th>2006-01-05</th>\n",
       "      <td>77178</td>\n",
       "    </tr>\n",
       "    <tr>\n",
       "      <th>2006-01-05</th>\n",
       "      <td>25778</td>\n",
       "    </tr>\n",
       "  </tbody>\n",
       "</table>\n",
       "</div>"
      ],
      "text/plain": [
       "            permno\n",
       "date              \n",
       "2006-01-04   86013\n",
       "2006-01-04   86717\n",
       "2006-01-04   21742\n",
       "2006-01-05   77178\n",
       "2006-01-05   25778"
      ]
     },
     "execution_count": 17,
     "metadata": {},
     "output_type": "execute_result"
    }
   ],
   "source": [
    "EmadteOK.head()"
   ]
  },
  {
   "cell_type": "code",
   "execution_count": 18,
   "metadata": {},
   "outputs": [
    {
     "data": {
      "text/plain": [
       "date\n",
       "2006-01-04    86013\n",
       "2006-01-04    86717\n",
       "2006-01-04    21742\n",
       "2006-01-05    77178\n",
       "2006-01-05    25778\n",
       "dtype: int64"
      ]
     },
     "execution_count": 18,
     "metadata": {},
     "output_type": "execute_result"
    }
   ],
   "source": [
    "EmadteOKS=pd.Series(EmadteOK.permno.values,index=EmadteOK.index)\n",
    "EmadteOKS.head()"
   ]
  },
  {
   "cell_type": "markdown",
   "metadata": {},
   "source": [
    "### Merger Announcements\n",
    "On February 1, 2008, Microsoft unveiled a hostile offer for Yahoo Inc (YHOO) of $44.6$ billion. Microsoft Corp’s (MSFT) offer of $31$ dollars per Yahoo share consisted of one-half cash and one-half Microsoft shares, and represented a $62\\%$ premium to Yahoo’s closing price on the previous day. However, Yahoo’s board of directors – led by co-founder Jerry Yang – rejected Microsoft’s offer, saying that it substantially undervalued the company. Unfortunately, the credit crisis that gripped the world later that year also took its toll on Yahoo shares, resulting in the stock trading below $10$ by November 2008. Yahoo’s subsequent road to recovery was a long one, and the stock only exceeded Microsoft’s original $31$ offer five and a half years later in September 2013.\n",
    "\n",
    "Read more: How Mergers and Acquisitions Can Affect A Company | Investopedia http://www.investopedia.com/articles/investing/102914/how-mergers-and-acquisitions-can-affect-company.asp#ixzz4sZ1VgjjF "
   ]
  },
  {
   "cell_type": "code",
   "execution_count": 21,
   "metadata": {},
   "outputs": [
    {
     "data": {
      "text/plain": [
       "date\n",
       "2008-02-01    10107\n",
       "2008-02-01    79103\n",
       "2008-02-01    63335\n",
       "2008-02-01    85176\n",
       "2008-02-01    81740\n",
       "dtype: int64"
      ]
     },
     "execution_count": 21,
     "metadata": {},
     "output_type": "execute_result"
    }
   ],
   "source": [
    "#Find Microsoft, pemno is 10107\n",
    "EmadteOKS['2008-02-01']"
   ]
  },
  {
   "cell_type": "code",
   "execution_count": 38,
   "metadata": {},
   "outputs": [
    {
     "name": "stdout",
     "output_type": "stream",
     "text": [
      "<class 'pandas.core.frame.DataFrame'>\n",
      "RangeIndex: 2967 entries, 0 to 2966\n",
      "Data columns (total 2 columns):\n",
      "date      2967 non-null datetime64[ns]\n",
      "permno    2967 non-null int64\n",
      "dtypes: datetime64[ns](1), int64(1)\n",
      "memory usage: 46.4 KB\n"
     ]
    }
   ],
   "source": [
    "pairs=EmadteOK\n",
    "pairs.reset_index(inplace=True)\n",
    "pairs.info()"
   ]
  },
  {
   "cell_type": "code",
   "execution_count": 39,
   "metadata": {},
   "outputs": [
    {
     "data": {
      "text/plain": [
       "date      2008-02-01 00:00:00\n",
       "permno                  10107\n",
       "Name: 1357, dtype: object"
      ]
     },
     "execution_count": 39,
     "metadata": {},
     "output_type": "execute_result"
    }
   ],
   "source": [
    "#query id\n",
    "MSeventid=EmadteOKS.index.get_loc('2008-02-01').start\n",
    "pair1=pairs.iloc[MSeventid,:]\n",
    "pair1"
   ]
  },
  {
   "cell_type": "markdown",
   "metadata": {},
   "source": [
    "## 1.Build Data"
   ]
  },
  {
   "cell_type": "code",
   "execution_count": 40,
   "metadata": {
    "collapsed": true
   },
   "outputs": [],
   "source": [
    "Bdata1=buildD(pair1)"
   ]
  },
  {
   "cell_type": "code",
   "execution_count": 41,
   "metadata": {},
   "outputs": [
    {
     "data": {
      "text/plain": [
       "(Timestamp('2007-02-27 00:00:00'),\n",
       " Timestamp('2007-10-01 00:00:00'),\n",
       " Timestamp('2007-12-11 00:00:00'),\n",
       " Timestamp('2008-01-17 00:00:00'),\n",
       " Timestamp('2008-02-01 00:00:00'),\n",
       " Timestamp('2008-02-15 00:00:00'))"
      ]
     },
     "execution_count": 41,
     "metadata": {},
     "output_type": "execute_result"
    }
   ],
   "source": [
    "#event timeline\n",
    "Bdata1[0]"
   ]
  },
  {
   "cell_type": "code",
   "execution_count": 42,
   "metadata": {},
   "outputs": [
    {
     "data": {
      "text/html": [
       "<div>\n",
       "<style>\n",
       "    .dataframe thead tr:only-child th {\n",
       "        text-align: right;\n",
       "    }\n",
       "\n",
       "    .dataframe thead th {\n",
       "        text-align: left;\n",
       "    }\n",
       "\n",
       "    .dataframe tbody tr th {\n",
       "        vertical-align: top;\n",
       "    }\n",
       "</style>\n",
       "<table border=\"1\" class=\"dataframe\">\n",
       "  <thead>\n",
       "    <tr style=\"text-align: right;\">\n",
       "      <th></th>\n",
       "      <th>10107</th>\n",
       "      <th>sprtrn</th>\n",
       "      <th>10001</th>\n",
       "      <th>10025</th>\n",
       "      <th>10032</th>\n",
       "      <th>10044</th>\n",
       "      <th>10051</th>\n",
       "      <th>10065</th>\n",
       "      <th>10100</th>\n",
       "      <th>10138</th>\n",
       "      <th>...</th>\n",
       "      <th>90916</th>\n",
       "      <th>90983</th>\n",
       "      <th>91287</th>\n",
       "      <th>91556</th>\n",
       "      <th>91626</th>\n",
       "      <th>91855</th>\n",
       "      <th>92583</th>\n",
       "      <th>92690</th>\n",
       "      <th>92807</th>\n",
       "      <th>92874</th>\n",
       "    </tr>\n",
       "    <tr>\n",
       "      <th>date</th>\n",
       "      <th></th>\n",
       "      <th></th>\n",
       "      <th></th>\n",
       "      <th></th>\n",
       "      <th></th>\n",
       "      <th></th>\n",
       "      <th></th>\n",
       "      <th></th>\n",
       "      <th></th>\n",
       "      <th></th>\n",
       "      <th></th>\n",
       "      <th></th>\n",
       "      <th></th>\n",
       "      <th></th>\n",
       "      <th></th>\n",
       "      <th></th>\n",
       "      <th></th>\n",
       "      <th></th>\n",
       "      <th></th>\n",
       "      <th></th>\n",
       "      <th></th>\n",
       "    </tr>\n",
       "  </thead>\n",
       "  <tbody>\n",
       "    <tr>\n",
       "      <th>2007-02-27</th>\n",
       "      <td>-0.041280</td>\n",
       "      <td>-0.034725</td>\n",
       "      <td>0.003571</td>\n",
       "      <td>-0.038251</td>\n",
       "      <td>-0.038128</td>\n",
       "      <td>-0.035600</td>\n",
       "      <td>-0.046414</td>\n",
       "      <td>-0.025514</td>\n",
       "      <td>-0.034866</td>\n",
       "      <td>-0.046676</td>\n",
       "      <td>...</td>\n",
       "      <td>-0.010475</td>\n",
       "      <td>-0.005455</td>\n",
       "      <td>-0.113435</td>\n",
       "      <td>-0.028622</td>\n",
       "      <td>-0.032856</td>\n",
       "      <td>-0.043118</td>\n",
       "      <td>-0.144250</td>\n",
       "      <td>-0.005567</td>\n",
       "      <td>-0.002146</td>\n",
       "      <td>-0.017544</td>\n",
       "    </tr>\n",
       "    <tr>\n",
       "      <th>2007-02-28</th>\n",
       "      <td>0.010764</td>\n",
       "      <td>0.005561</td>\n",
       "      <td>0.009964</td>\n",
       "      <td>0.030000</td>\n",
       "      <td>-0.015015</td>\n",
       "      <td>0.006151</td>\n",
       "      <td>0.032743</td>\n",
       "      <td>0.001447</td>\n",
       "      <td>-0.074346</td>\n",
       "      <td>0.017705</td>\n",
       "      <td>...</td>\n",
       "      <td>-0.007329</td>\n",
       "      <td>-0.010969</td>\n",
       "      <td>0.025638</td>\n",
       "      <td>-0.004556</td>\n",
       "      <td>0.020518</td>\n",
       "      <td>0.002163</td>\n",
       "      <td>0.047794</td>\n",
       "      <td>-0.005731</td>\n",
       "      <td>-0.004301</td>\n",
       "      <td>-0.016484</td>\n",
       "    </tr>\n",
       "    <tr>\n",
       "      <th>2007-03-01</th>\n",
       "      <td>-0.002840</td>\n",
       "      <td>-0.002595</td>\n",
       "      <td>0.000000</td>\n",
       "      <td>-0.026037</td>\n",
       "      <td>0.009756</td>\n",
       "      <td>-0.004396</td>\n",
       "      <td>-0.034276</td>\n",
       "      <td>-0.000719</td>\n",
       "      <td>0.023756</td>\n",
       "      <td>-0.004940</td>\n",
       "      <td>...</td>\n",
       "      <td>-0.003281</td>\n",
       "      <td>-0.007394</td>\n",
       "      <td>-0.026248</td>\n",
       "      <td>-0.004272</td>\n",
       "      <td>0.008570</td>\n",
       "      <td>0.007914</td>\n",
       "      <td>-0.056140</td>\n",
       "      <td>-0.006702</td>\n",
       "      <td>0.010799</td>\n",
       "      <td>0.017360</td>\n",
       "    </tr>\n",
       "    <tr>\n",
       "      <th>2007-03-02</th>\n",
       "      <td>-0.011748</td>\n",
       "      <td>-0.011403</td>\n",
       "      <td>0.000705</td>\n",
       "      <td>-0.026280</td>\n",
       "      <td>-0.020531</td>\n",
       "      <td>-0.006623</td>\n",
       "      <td>-0.006211</td>\n",
       "      <td>-0.013074</td>\n",
       "      <td>0.000000</td>\n",
       "      <td>-0.010361</td>\n",
       "      <td>...</td>\n",
       "      <td>-0.009877</td>\n",
       "      <td>-0.001122</td>\n",
       "      <td>-0.026190</td>\n",
       "      <td>-0.009501</td>\n",
       "      <td>-0.007190</td>\n",
       "      <td>-0.062812</td>\n",
       "      <td>-0.022305</td>\n",
       "      <td>-0.004723</td>\n",
       "      <td>-0.012821</td>\n",
       "      <td>-0.001963</td>\n",
       "    </tr>\n",
       "    <tr>\n",
       "      <th>2007-03-05</th>\n",
       "      <td>-0.007568</td>\n",
       "      <td>-0.009408</td>\n",
       "      <td>-0.027465</td>\n",
       "      <td>0.000931</td>\n",
       "      <td>-0.018496</td>\n",
       "      <td>-0.003704</td>\n",
       "      <td>-0.025893</td>\n",
       "      <td>-0.008844</td>\n",
       "      <td>-0.013812</td>\n",
       "      <td>-0.027350</td>\n",
       "      <td>...</td>\n",
       "      <td>-0.027431</td>\n",
       "      <td>-0.007491</td>\n",
       "      <td>-0.074609</td>\n",
       "      <td>-0.017327</td>\n",
       "      <td>-0.056945</td>\n",
       "      <td>-0.019802</td>\n",
       "      <td>-0.012928</td>\n",
       "      <td>-0.014237</td>\n",
       "      <td>0.004329</td>\n",
       "      <td>-0.011142</td>\n",
       "    </tr>\n",
       "  </tbody>\n",
       "</table>\n",
       "<p>5 rows × 2949 columns</p>\n",
       "</div>"
      ],
      "text/plain": [
       "               10107    sprtrn     10001     10025     10032     10044  \\\n",
       "date                                                                     \n",
       "2007-02-27 -0.041280 -0.034725  0.003571 -0.038251 -0.038128 -0.035600   \n",
       "2007-02-28  0.010764  0.005561  0.009964  0.030000 -0.015015  0.006151   \n",
       "2007-03-01 -0.002840 -0.002595  0.000000 -0.026037  0.009756 -0.004396   \n",
       "2007-03-02 -0.011748 -0.011403  0.000705 -0.026280 -0.020531 -0.006623   \n",
       "2007-03-05 -0.007568 -0.009408 -0.027465  0.000931 -0.018496 -0.003704   \n",
       "\n",
       "               10051     10065     10100     10138    ...        90916  \\\n",
       "date                                                  ...                \n",
       "2007-02-27 -0.046414 -0.025514 -0.034866 -0.046676    ...    -0.010475   \n",
       "2007-02-28  0.032743  0.001447 -0.074346  0.017705    ...    -0.007329   \n",
       "2007-03-01 -0.034276 -0.000719  0.023756 -0.004940    ...    -0.003281   \n",
       "2007-03-02 -0.006211 -0.013074  0.000000 -0.010361    ...    -0.009877   \n",
       "2007-03-05 -0.025893 -0.008844 -0.013812 -0.027350    ...    -0.027431   \n",
       "\n",
       "               90983     91287     91556     91626     91855     92583  \\\n",
       "date                                                                     \n",
       "2007-02-27 -0.005455 -0.113435 -0.028622 -0.032856 -0.043118 -0.144250   \n",
       "2007-02-28 -0.010969  0.025638 -0.004556  0.020518  0.002163  0.047794   \n",
       "2007-03-01 -0.007394 -0.026248 -0.004272  0.008570  0.007914 -0.056140   \n",
       "2007-03-02 -0.001122 -0.026190 -0.009501 -0.007190 -0.062812 -0.022305   \n",
       "2007-03-05 -0.007491 -0.074609 -0.017327 -0.056945 -0.019802 -0.012928   \n",
       "\n",
       "               92690     92807     92874  \n",
       "date                                      \n",
       "2007-02-27 -0.005567 -0.002146 -0.017544  \n",
       "2007-02-28 -0.005731 -0.004301 -0.016484  \n",
       "2007-03-01 -0.006702  0.010799  0.017360  \n",
       "2007-03-02 -0.004723 -0.012821 -0.001963  \n",
       "2007-03-05 -0.014237  0.004329 -0.011142  \n",
       "\n",
       "[5 rows x 2949 columns]"
      ]
     },
     "execution_count": 42,
     "metadata": {},
     "output_type": "execute_result"
    }
   ],
   "source": [
    "#Data\n",
    "Bdata1[1].head()"
   ]
  },
  {
   "cell_type": "code",
   "execution_count": 44,
   "metadata": {},
   "outputs": [],
   "source": [
    "#save data for Example\n",
    "Bdata1[1].to_pickle('E10107.pickle')"
   ]
  },
  {
   "cell_type": "code",
   "execution_count": 45,
   "metadata": {},
   "outputs": [
    {
     "data": {
      "text/plain": [
       "T1        2007-02-27\n",
       "T2        2007-10-01\n",
       "T3        2007-12-11\n",
       "T4        2008-01-17\n",
       "Event_0   2008-02-01\n",
       "T5        2008-02-15\n",
       "Name: date, dtype: datetime64[ns]"
      ]
     },
     "execution_count": 45,
     "metadata": {},
     "output_type": "execute_result"
    }
   ],
   "source": [
    "#Make Event dates panda series\n",
    "stage=[\"T1\",\"T2\",\"T3\",\"T4\",'Event_0','T5']\n",
    "#dated=[dinvl[0],dinvl[1],dinvl[2],dinvl[len(dinvl)-1]]\n",
    "evDtes=dict(zip(stage,Bdata1[0]))\n",
    "evDtes=pd.Series(evDtes, index=stage)\n",
    "evDtes.name='date'\n",
    "evDtes"
   ]
  },
  {
   "cell_type": "code",
   "execution_count": 46,
   "metadata": {
    "collapsed": true
   },
   "outputs": [],
   "source": [
    "evDtes.to_csv('DatesE10107.csv')"
   ]
  },
  {
   "cell_type": "markdown",
   "metadata": {
    "collapsed": true
   },
   "source": [
    "## 2. Estimation "
   ]
  },
  {
   "cell_type": "code",
   "execution_count": null,
   "metadata": {
    "collapsed": true
   },
   "outputs": [],
   "source": [
    "Sout1=rsynth(Bdata1)"
   ]
  },
  {
   "cell_type": "code",
   "execution_count": null,
   "metadata": {},
   "outputs": [],
   "source": [
    "Sout1[0]"
   ]
  },
  {
   "cell_type": "code",
   "execution_count": null,
   "metadata": {
    "collapsed": true
   },
   "outputs": [],
   "source": [
    "Sout1[1]"
   ]
  },
  {
   "cell_type": "code",
   "execution_count": null,
   "metadata": {
    "collapsed": true
   },
   "outputs": [],
   "source": [
    "Sout1[2]"
   ]
  },
  {
   "cell_type": "code",
   "execution_count": null,
   "metadata": {
    "collapsed": true
   },
   "outputs": [],
   "source": []
  }
 ],
 "metadata": {
  "kernelspec": {
   "display_name": "Python 3",
   "language": "python",
   "name": "python3"
  },
  "language_info": {
   "codemirror_mode": {
    "name": "ipython",
    "version": 3
   },
   "file_extension": ".py",
   "mimetype": "text/x-python",
   "name": "python",
   "nbconvert_exporter": "python",
   "pygments_lexer": "ipython3",
   "version": "3.6.1"
  },
  "nbTranslate": {
   "displayLangs": [
    "*"
   ],
   "hotkey": "alt-t",
   "langInMainMenu": true,
   "sourceLang": "en",
   "targetLang": "fr",
   "useGoogleTranslate": true
  }
 },
 "nbformat": 4,
 "nbformat_minor": 2
}
